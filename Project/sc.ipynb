{
 "cells": [
  {
   "cell_type": "code",
   "execution_count": 50,
   "metadata": {},
   "outputs": [],
   "source": [
    "import pandas as pd\n",
    "import seaborn as sns\n",
    "import pdb\n",
    "import numpy as np\n",
    "import matplotlib.pyplot as plt\n",
    "%matplotlib inline\n",
    "from statsmodels.formula.api import ols\n",
    "import statsmodels.api as sm\n",
    "from sklearn.linear_model import LinearRegression\n",
    "from sklearn.impute import SimpleImputer"
   ]
  },
  {
   "cell_type": "code",
   "execution_count": 51,
   "metadata": {},
   "outputs": [],
   "source": [
    "df = pd.read_csv(r\"C:\\Users\\oscar\\Documents\\games.csv\")"
   ]
  },
  {
   "cell_type": "code",
   "execution_count": 52,
   "metadata": {},
   "outputs": [],
   "source": [
    "meta = pd.read_json(r\"C:\\Users\\oscar\\Documents\\games_metadata.json\", lines=True)"
   ]
  },
  {
   "cell_type": "code",
   "execution_count": 53,
   "metadata": {},
   "outputs": [
    {
     "name": "stdout",
     "output_type": "stream",
     "text": [
      "<class 'pandas.core.frame.DataFrame'>\n",
      "RangeIndex: 50503 entries, 0 to 50502\n",
      "Data columns (total 13 columns):\n",
      " #   Column          Non-Null Count  Dtype  \n",
      "---  ------          --------------  -----  \n",
      " 0   app_id          50503 non-null  int64  \n",
      " 1   title           50503 non-null  object \n",
      " 2   date_release    50503 non-null  object \n",
      " 3   win             50503 non-null  bool   \n",
      " 4   mac             50503 non-null  bool   \n",
      " 5   linux           50503 non-null  bool   \n",
      " 6   rating          50503 non-null  object \n",
      " 7   positive_ratio  50503 non-null  int64  \n",
      " 8   user_reviews    50503 non-null  int64  \n",
      " 9   price_final     50503 non-null  float64\n",
      " 10  price_original  50503 non-null  float64\n",
      " 11  discount        50503 non-null  float64\n",
      " 12  steam_deck      50503 non-null  bool   \n",
      "dtypes: bool(4), float64(3), int64(3), object(3)\n",
      "memory usage: 3.7+ MB\n"
     ]
    }
   ],
   "source": [
    "df.info()"
   ]
  },
  {
   "cell_type": "code",
   "execution_count": 54,
   "metadata": {},
   "outputs": [
    {
     "data": {
      "text/html": [
       "<div>\n",
       "<style scoped>\n",
       "    .dataframe tbody tr th:only-of-type {\n",
       "        vertical-align: middle;\n",
       "    }\n",
       "\n",
       "    .dataframe tbody tr th {\n",
       "        vertical-align: top;\n",
       "    }\n",
       "\n",
       "    .dataframe thead th {\n",
       "        text-align: right;\n",
       "    }\n",
       "</style>\n",
       "<table border=\"1\" class=\"dataframe\">\n",
       "  <thead>\n",
       "    <tr style=\"text-align: right;\">\n",
       "      <th></th>\n",
       "      <th>app_id</th>\n",
       "      <th>title</th>\n",
       "      <th>date_release</th>\n",
       "      <th>win</th>\n",
       "      <th>mac</th>\n",
       "      <th>linux</th>\n",
       "      <th>rating</th>\n",
       "      <th>positive_ratio</th>\n",
       "      <th>user_reviews</th>\n",
       "      <th>price_final</th>\n",
       "      <th>price_original</th>\n",
       "      <th>discount</th>\n",
       "      <th>steam_deck</th>\n",
       "    </tr>\n",
       "  </thead>\n",
       "  <tbody>\n",
       "    <tr>\n",
       "      <th>0</th>\n",
       "      <td>13500</td>\n",
       "      <td>Prince of Persia: Warrior Within™</td>\n",
       "      <td>2008-11-21</td>\n",
       "      <td>True</td>\n",
       "      <td>False</td>\n",
       "      <td>False</td>\n",
       "      <td>Very Positive</td>\n",
       "      <td>84</td>\n",
       "      <td>2199</td>\n",
       "      <td>9.99</td>\n",
       "      <td>9.99</td>\n",
       "      <td>0.0</td>\n",
       "      <td>True</td>\n",
       "    </tr>\n",
       "    <tr>\n",
       "      <th>1</th>\n",
       "      <td>22364</td>\n",
       "      <td>BRINK: Agents of Change</td>\n",
       "      <td>2011-08-03</td>\n",
       "      <td>True</td>\n",
       "      <td>False</td>\n",
       "      <td>False</td>\n",
       "      <td>Positive</td>\n",
       "      <td>85</td>\n",
       "      <td>21</td>\n",
       "      <td>2.99</td>\n",
       "      <td>2.99</td>\n",
       "      <td>0.0</td>\n",
       "      <td>True</td>\n",
       "    </tr>\n",
       "    <tr>\n",
       "      <th>2</th>\n",
       "      <td>113020</td>\n",
       "      <td>Monaco: What's Yours Is Mine</td>\n",
       "      <td>2013-04-24</td>\n",
       "      <td>True</td>\n",
       "      <td>True</td>\n",
       "      <td>True</td>\n",
       "      <td>Very Positive</td>\n",
       "      <td>92</td>\n",
       "      <td>3722</td>\n",
       "      <td>14.99</td>\n",
       "      <td>14.99</td>\n",
       "      <td>0.0</td>\n",
       "      <td>True</td>\n",
       "    </tr>\n",
       "    <tr>\n",
       "      <th>3</th>\n",
       "      <td>226560</td>\n",
       "      <td>Escape Dead Island</td>\n",
       "      <td>2014-11-18</td>\n",
       "      <td>True</td>\n",
       "      <td>False</td>\n",
       "      <td>False</td>\n",
       "      <td>Mixed</td>\n",
       "      <td>61</td>\n",
       "      <td>873</td>\n",
       "      <td>14.99</td>\n",
       "      <td>14.99</td>\n",
       "      <td>0.0</td>\n",
       "      <td>True</td>\n",
       "    </tr>\n",
       "    <tr>\n",
       "      <th>4</th>\n",
       "      <td>249050</td>\n",
       "      <td>Dungeon of the ENDLESS™</td>\n",
       "      <td>2014-10-27</td>\n",
       "      <td>True</td>\n",
       "      <td>True</td>\n",
       "      <td>False</td>\n",
       "      <td>Very Positive</td>\n",
       "      <td>88</td>\n",
       "      <td>8784</td>\n",
       "      <td>11.99</td>\n",
       "      <td>11.99</td>\n",
       "      <td>0.0</td>\n",
       "      <td>True</td>\n",
       "    </tr>\n",
       "    <tr>\n",
       "      <th>5</th>\n",
       "      <td>250180</td>\n",
       "      <td>METAL SLUG 3</td>\n",
       "      <td>2015-09-14</td>\n",
       "      <td>True</td>\n",
       "      <td>False</td>\n",
       "      <td>False</td>\n",
       "      <td>Very Positive</td>\n",
       "      <td>90</td>\n",
       "      <td>5579</td>\n",
       "      <td>7.99</td>\n",
       "      <td>7.99</td>\n",
       "      <td>0.0</td>\n",
       "      <td>True</td>\n",
       "    </tr>\n",
       "    <tr>\n",
       "      <th>6</th>\n",
       "      <td>253980</td>\n",
       "      <td>Enclave</td>\n",
       "      <td>2013-10-04</td>\n",
       "      <td>True</td>\n",
       "      <td>True</td>\n",
       "      <td>True</td>\n",
       "      <td>Mostly Positive</td>\n",
       "      <td>75</td>\n",
       "      <td>1608</td>\n",
       "      <td>4.99</td>\n",
       "      <td>4.99</td>\n",
       "      <td>0.0</td>\n",
       "      <td>True</td>\n",
       "    </tr>\n",
       "    <tr>\n",
       "      <th>7</th>\n",
       "      <td>271850</td>\n",
       "      <td>Men of War: Assault Squad 2 - Deluxe Edition u...</td>\n",
       "      <td>2014-05-16</td>\n",
       "      <td>True</td>\n",
       "      <td>False</td>\n",
       "      <td>False</td>\n",
       "      <td>Mixed</td>\n",
       "      <td>61</td>\n",
       "      <td>199</td>\n",
       "      <td>6.99</td>\n",
       "      <td>6.99</td>\n",
       "      <td>0.0</td>\n",
       "      <td>True</td>\n",
       "    </tr>\n",
       "    <tr>\n",
       "      <th>8</th>\n",
       "      <td>282900</td>\n",
       "      <td>Hyperdimension Neptunia Re;Birth1</td>\n",
       "      <td>2015-01-29</td>\n",
       "      <td>True</td>\n",
       "      <td>False</td>\n",
       "      <td>False</td>\n",
       "      <td>Very Positive</td>\n",
       "      <td>94</td>\n",
       "      <td>9686</td>\n",
       "      <td>14.99</td>\n",
       "      <td>14.99</td>\n",
       "      <td>0.0</td>\n",
       "      <td>True</td>\n",
       "    </tr>\n",
       "    <tr>\n",
       "      <th>9</th>\n",
       "      <td>19810</td>\n",
       "      <td>The Sum of All Fears</td>\n",
       "      <td>2008-10-10</td>\n",
       "      <td>True</td>\n",
       "      <td>False</td>\n",
       "      <td>False</td>\n",
       "      <td>Mostly Positive</td>\n",
       "      <td>75</td>\n",
       "      <td>33</td>\n",
       "      <td>9.99</td>\n",
       "      <td>9.99</td>\n",
       "      <td>0.0</td>\n",
       "      <td>True</td>\n",
       "    </tr>\n",
       "  </tbody>\n",
       "</table>\n",
       "</div>"
      ],
      "text/plain": [
       "   app_id                                              title date_release  \\\n",
       "0   13500                  Prince of Persia: Warrior Within™   2008-11-21   \n",
       "1   22364                            BRINK: Agents of Change   2011-08-03   \n",
       "2  113020                       Monaco: What's Yours Is Mine   2013-04-24   \n",
       "3  226560                                 Escape Dead Island   2014-11-18   \n",
       "4  249050                            Dungeon of the ENDLESS™   2014-10-27   \n",
       "5  250180                                       METAL SLUG 3   2015-09-14   \n",
       "6  253980                                            Enclave   2013-10-04   \n",
       "7  271850  Men of War: Assault Squad 2 - Deluxe Edition u...   2014-05-16   \n",
       "8  282900                  Hyperdimension Neptunia Re;Birth1   2015-01-29   \n",
       "9   19810                               The Sum of All Fears   2008-10-10   \n",
       "\n",
       "    win    mac  linux           rating  positive_ratio  user_reviews  \\\n",
       "0  True  False  False    Very Positive              84          2199   \n",
       "1  True  False  False         Positive              85            21   \n",
       "2  True   True   True    Very Positive              92          3722   \n",
       "3  True  False  False            Mixed              61           873   \n",
       "4  True   True  False    Very Positive              88          8784   \n",
       "5  True  False  False    Very Positive              90          5579   \n",
       "6  True   True   True  Mostly Positive              75          1608   \n",
       "7  True  False  False            Mixed              61           199   \n",
       "8  True  False  False    Very Positive              94          9686   \n",
       "9  True  False  False  Mostly Positive              75            33   \n",
       "\n",
       "   price_final  price_original  discount  steam_deck  \n",
       "0         9.99            9.99       0.0        True  \n",
       "1         2.99            2.99       0.0        True  \n",
       "2        14.99           14.99       0.0        True  \n",
       "3        14.99           14.99       0.0        True  \n",
       "4        11.99           11.99       0.0        True  \n",
       "5         7.99            7.99       0.0        True  \n",
       "6         4.99            4.99       0.0        True  \n",
       "7         6.99            6.99       0.0        True  \n",
       "8        14.99           14.99       0.0        True  \n",
       "9         9.99            9.99       0.0        True  "
      ]
     },
     "execution_count": 54,
     "metadata": {},
     "output_type": "execute_result"
    }
   ],
   "source": [
    "df.head(10)"
   ]
  },
  {
   "cell_type": "code",
   "execution_count": 55,
   "metadata": {},
   "outputs": [
    {
     "name": "stdout",
     "output_type": "stream",
     "text": [
      "<class 'pandas.core.frame.DataFrame'>\n",
      "RangeIndex: 50503 entries, 0 to 50502\n",
      "Data columns (total 3 columns):\n",
      " #   Column       Non-Null Count  Dtype \n",
      "---  ------       --------------  ----- \n",
      " 0   app_id       50503 non-null  int64 \n",
      " 1   description  50503 non-null  object\n",
      " 2   tags         50503 non-null  object\n",
      "dtypes: int64(1), object(2)\n",
      "memory usage: 1.2+ MB\n"
     ]
    }
   ],
   "source": [
    "meta.info()"
   ]
  },
  {
   "cell_type": "code",
   "execution_count": 56,
   "metadata": {},
   "outputs": [],
   "source": [
    "df = df.merge(meta, on='app_id')\n"
   ]
  },
  {
   "cell_type": "code",
   "execution_count": 57,
   "metadata": {},
   "outputs": [
    {
     "data": {
      "text/html": [
       "<div>\n",
       "<style scoped>\n",
       "    .dataframe tbody tr th:only-of-type {\n",
       "        vertical-align: middle;\n",
       "    }\n",
       "\n",
       "    .dataframe tbody tr th {\n",
       "        vertical-align: top;\n",
       "    }\n",
       "\n",
       "    .dataframe thead th {\n",
       "        text-align: right;\n",
       "    }\n",
       "</style>\n",
       "<table border=\"1\" class=\"dataframe\">\n",
       "  <thead>\n",
       "    <tr style=\"text-align: right;\">\n",
       "      <th></th>\n",
       "      <th>app_id</th>\n",
       "      <th>title</th>\n",
       "      <th>date_release</th>\n",
       "      <th>win</th>\n",
       "      <th>mac</th>\n",
       "      <th>linux</th>\n",
       "      <th>rating</th>\n",
       "      <th>positive_ratio</th>\n",
       "      <th>user_reviews</th>\n",
       "      <th>price_final</th>\n",
       "      <th>price_original</th>\n",
       "      <th>discount</th>\n",
       "      <th>steam_deck</th>\n",
       "      <th>tags</th>\n",
       "    </tr>\n",
       "  </thead>\n",
       "  <tbody>\n",
       "    <tr>\n",
       "      <th>0</th>\n",
       "      <td>13500</td>\n",
       "      <td>Prince of Persia: Warrior Within™</td>\n",
       "      <td>2008-11-21</td>\n",
       "      <td>True</td>\n",
       "      <td>False</td>\n",
       "      <td>False</td>\n",
       "      <td>Very Positive</td>\n",
       "      <td>84</td>\n",
       "      <td>2199</td>\n",
       "      <td>9.99</td>\n",
       "      <td>9.99</td>\n",
       "      <td>0.0</td>\n",
       "      <td>True</td>\n",
       "      <td>[Action, Adventure, Parkour, Third Person, Gre...</td>\n",
       "    </tr>\n",
       "    <tr>\n",
       "      <th>1</th>\n",
       "      <td>22364</td>\n",
       "      <td>BRINK: Agents of Change</td>\n",
       "      <td>2011-08-03</td>\n",
       "      <td>True</td>\n",
       "      <td>False</td>\n",
       "      <td>False</td>\n",
       "      <td>Positive</td>\n",
       "      <td>85</td>\n",
       "      <td>21</td>\n",
       "      <td>2.99</td>\n",
       "      <td>2.99</td>\n",
       "      <td>0.0</td>\n",
       "      <td>True</td>\n",
       "      <td>[Action]</td>\n",
       "    </tr>\n",
       "    <tr>\n",
       "      <th>2</th>\n",
       "      <td>113020</td>\n",
       "      <td>Monaco: What's Yours Is Mine</td>\n",
       "      <td>2013-04-24</td>\n",
       "      <td>True</td>\n",
       "      <td>True</td>\n",
       "      <td>True</td>\n",
       "      <td>Very Positive</td>\n",
       "      <td>92</td>\n",
       "      <td>3722</td>\n",
       "      <td>14.99</td>\n",
       "      <td>14.99</td>\n",
       "      <td>0.0</td>\n",
       "      <td>True</td>\n",
       "      <td>[Co-op, Stealth, Indie, Heist, Local Co-Op, St...</td>\n",
       "    </tr>\n",
       "    <tr>\n",
       "      <th>3</th>\n",
       "      <td>226560</td>\n",
       "      <td>Escape Dead Island</td>\n",
       "      <td>2014-11-18</td>\n",
       "      <td>True</td>\n",
       "      <td>False</td>\n",
       "      <td>False</td>\n",
       "      <td>Mixed</td>\n",
       "      <td>61</td>\n",
       "      <td>873</td>\n",
       "      <td>14.99</td>\n",
       "      <td>14.99</td>\n",
       "      <td>0.0</td>\n",
       "      <td>True</td>\n",
       "      <td>[Zombies, Adventure, Survival, Action, Third P...</td>\n",
       "    </tr>\n",
       "    <tr>\n",
       "      <th>4</th>\n",
       "      <td>249050</td>\n",
       "      <td>Dungeon of the ENDLESS™</td>\n",
       "      <td>2014-10-27</td>\n",
       "      <td>True</td>\n",
       "      <td>True</td>\n",
       "      <td>False</td>\n",
       "      <td>Very Positive</td>\n",
       "      <td>88</td>\n",
       "      <td>8784</td>\n",
       "      <td>11.99</td>\n",
       "      <td>11.99</td>\n",
       "      <td>0.0</td>\n",
       "      <td>True</td>\n",
       "      <td>[Roguelike, Strategy, Tower Defense, Pixel Gra...</td>\n",
       "    </tr>\n",
       "    <tr>\n",
       "      <th>...</th>\n",
       "      <td>...</td>\n",
       "      <td>...</td>\n",
       "      <td>...</td>\n",
       "      <td>...</td>\n",
       "      <td>...</td>\n",
       "      <td>...</td>\n",
       "      <td>...</td>\n",
       "      <td>...</td>\n",
       "      <td>...</td>\n",
       "      <td>...</td>\n",
       "      <td>...</td>\n",
       "      <td>...</td>\n",
       "      <td>...</td>\n",
       "      <td>...</td>\n",
       "    </tr>\n",
       "    <tr>\n",
       "      <th>50498</th>\n",
       "      <td>2432010</td>\n",
       "      <td>The Stranded Traveler</td>\n",
       "      <td>2023-06-16</td>\n",
       "      <td>True</td>\n",
       "      <td>False</td>\n",
       "      <td>False</td>\n",
       "      <td>Positive</td>\n",
       "      <td>80</td>\n",
       "      <td>26</td>\n",
       "      <td>0.00</td>\n",
       "      <td>0.00</td>\n",
       "      <td>0.0</td>\n",
       "      <td>True</td>\n",
       "      <td>[Adventure, Action, Action-Adventure, Platform...</td>\n",
       "    </tr>\n",
       "    <tr>\n",
       "      <th>50499</th>\n",
       "      <td>668600</td>\n",
       "      <td>Pixelum</td>\n",
       "      <td>2020-10-01</td>\n",
       "      <td>True</td>\n",
       "      <td>False</td>\n",
       "      <td>False</td>\n",
       "      <td>Mixed</td>\n",
       "      <td>41</td>\n",
       "      <td>58</td>\n",
       "      <td>0.00</td>\n",
       "      <td>0.00</td>\n",
       "      <td>0.0</td>\n",
       "      <td>True</td>\n",
       "      <td>[RPG, Adventure, Simulation, Indie, Early Acce...</td>\n",
       "    </tr>\n",
       "    <tr>\n",
       "      <th>50500</th>\n",
       "      <td>2071510</td>\n",
       "      <td>Goblin Rules Football</td>\n",
       "      <td>2022-10-20</td>\n",
       "      <td>True</td>\n",
       "      <td>True</td>\n",
       "      <td>True</td>\n",
       "      <td>Mostly Positive</td>\n",
       "      <td>72</td>\n",
       "      <td>11</td>\n",
       "      <td>0.00</td>\n",
       "      <td>0.00</td>\n",
       "      <td>0.0</td>\n",
       "      <td>True</td>\n",
       "      <td>[Sports, Arcade, 2D, Football (American), Team...</td>\n",
       "    </tr>\n",
       "    <tr>\n",
       "      <th>50501</th>\n",
       "      <td>2446220</td>\n",
       "      <td>World of Tanks Blitz - Welcome Bundle</td>\n",
       "      <td>2023-05-25</td>\n",
       "      <td>True</td>\n",
       "      <td>True</td>\n",
       "      <td>False</td>\n",
       "      <td>Mixed</td>\n",
       "      <td>63</td>\n",
       "      <td>199</td>\n",
       "      <td>0.00</td>\n",
       "      <td>0.00</td>\n",
       "      <td>0.0</td>\n",
       "      <td>True</td>\n",
       "      <td>[Action, Free to Play, Massively Multiplayer]</td>\n",
       "    </tr>\n",
       "    <tr>\n",
       "      <th>50502</th>\n",
       "      <td>2457970</td>\n",
       "      <td>Amicade</td>\n",
       "      <td>2023-06-16</td>\n",
       "      <td>True</td>\n",
       "      <td>False</td>\n",
       "      <td>False</td>\n",
       "      <td>Positive</td>\n",
       "      <td>93</td>\n",
       "      <td>15</td>\n",
       "      <td>0.00</td>\n",
       "      <td>0.00</td>\n",
       "      <td>0.0</td>\n",
       "      <td>True</td>\n",
       "      <td>[Action, Arcade, Score Attack, 2.5D, 1980s, Si...</td>\n",
       "    </tr>\n",
       "  </tbody>\n",
       "</table>\n",
       "<p>50503 rows × 14 columns</p>\n",
       "</div>"
      ],
      "text/plain": [
       "        app_id                                  title date_release   win  \\\n",
       "0        13500      Prince of Persia: Warrior Within™   2008-11-21  True   \n",
       "1        22364                BRINK: Agents of Change   2011-08-03  True   \n",
       "2       113020           Monaco: What's Yours Is Mine   2013-04-24  True   \n",
       "3       226560                     Escape Dead Island   2014-11-18  True   \n",
       "4       249050                Dungeon of the ENDLESS™   2014-10-27  True   \n",
       "...        ...                                    ...          ...   ...   \n",
       "50498  2432010                  The Stranded Traveler   2023-06-16  True   \n",
       "50499   668600                                Pixelum   2020-10-01  True   \n",
       "50500  2071510                  Goblin Rules Football   2022-10-20  True   \n",
       "50501  2446220  World of Tanks Blitz - Welcome Bundle   2023-05-25  True   \n",
       "50502  2457970                                Amicade   2023-06-16  True   \n",
       "\n",
       "         mac  linux           rating  positive_ratio  user_reviews  \\\n",
       "0      False  False    Very Positive              84          2199   \n",
       "1      False  False         Positive              85            21   \n",
       "2       True   True    Very Positive              92          3722   \n",
       "3      False  False            Mixed              61           873   \n",
       "4       True  False    Very Positive              88          8784   \n",
       "...      ...    ...              ...             ...           ...   \n",
       "50498  False  False         Positive              80            26   \n",
       "50499  False  False            Mixed              41            58   \n",
       "50500   True   True  Mostly Positive              72            11   \n",
       "50501   True  False            Mixed              63           199   \n",
       "50502  False  False         Positive              93            15   \n",
       "\n",
       "       price_final  price_original  discount  steam_deck  \\\n",
       "0             9.99            9.99       0.0        True   \n",
       "1             2.99            2.99       0.0        True   \n",
       "2            14.99           14.99       0.0        True   \n",
       "3            14.99           14.99       0.0        True   \n",
       "4            11.99           11.99       0.0        True   \n",
       "...            ...             ...       ...         ...   \n",
       "50498         0.00            0.00       0.0        True   \n",
       "50499         0.00            0.00       0.0        True   \n",
       "50500         0.00            0.00       0.0        True   \n",
       "50501         0.00            0.00       0.0        True   \n",
       "50502         0.00            0.00       0.0        True   \n",
       "\n",
       "                                                    tags  \n",
       "0      [Action, Adventure, Parkour, Third Person, Gre...  \n",
       "1                                               [Action]  \n",
       "2      [Co-op, Stealth, Indie, Heist, Local Co-Op, St...  \n",
       "3      [Zombies, Adventure, Survival, Action, Third P...  \n",
       "4      [Roguelike, Strategy, Tower Defense, Pixel Gra...  \n",
       "...                                                  ...  \n",
       "50498  [Adventure, Action, Action-Adventure, Platform...  \n",
       "50499  [RPG, Adventure, Simulation, Indie, Early Acce...  \n",
       "50500  [Sports, Arcade, 2D, Football (American), Team...  \n",
       "50501      [Action, Free to Play, Massively Multiplayer]  \n",
       "50502  [Action, Arcade, Score Attack, 2.5D, 1980s, Si...  \n",
       "\n",
       "[50503 rows x 14 columns]"
      ]
     },
     "execution_count": 57,
     "metadata": {},
     "output_type": "execute_result"
    }
   ],
   "source": [
    "df.drop('description', axis = 1)"
   ]
  },
  {
   "cell_type": "code",
   "execution_count": 58,
   "metadata": {},
   "outputs": [
    {
     "data": {
      "text/plain": [
       "0"
      ]
     },
     "execution_count": 58,
     "metadata": {},
     "output_type": "execute_result"
    }
   ],
   "source": [
    "df.isnull().sum(axis=1).sum()"
   ]
  },
  {
   "cell_type": "code",
   "execution_count": 59,
   "metadata": {},
   "outputs": [
    {
     "name": "stdout",
     "output_type": "stream",
     "text": [
      "<class 'pandas.core.frame.DataFrame'>\n",
      "RangeIndex: 50503 entries, 0 to 50502\n",
      "Data columns (total 15 columns):\n",
      " #   Column          Non-Null Count  Dtype  \n",
      "---  ------          --------------  -----  \n",
      " 0   app_id          50503 non-null  int64  \n",
      " 1   title           50503 non-null  object \n",
      " 2   date_release    50503 non-null  object \n",
      " 3   win             50503 non-null  bool   \n",
      " 4   mac             50503 non-null  bool   \n",
      " 5   linux           50503 non-null  bool   \n",
      " 6   rating          50503 non-null  object \n",
      " 7   positive_ratio  50503 non-null  int64  \n",
      " 8   user_reviews    50503 non-null  int64  \n",
      " 9   price_final     50503 non-null  float64\n",
      " 10  price_original  50503 non-null  float64\n",
      " 11  discount        50503 non-null  float64\n",
      " 12  steam_deck      50503 non-null  bool   \n",
      " 13  description     50503 non-null  object \n",
      " 14  tags            50503 non-null  object \n",
      "dtypes: bool(4), float64(3), int64(3), object(5)\n",
      "memory usage: 4.4+ MB\n"
     ]
    }
   ],
   "source": [
    "df.drop_duplicates(subset=['app_id', 'title', 'date_release', 'win', 'mac', 'linux',\n",
    "                             'rating', 'positive_ratio', 'user_reviews', 'price_final',\n",
    "                             'price_original', 'discount', 'steam_deck'], inplace=True)\n",
    "\n",
    "df.info()"
   ]
  },
  {
   "cell_type": "code",
   "execution_count": 60,
   "metadata": {},
   "outputs": [
    {
     "data": {
      "image/png": "[encoded data removed]",
      "text/plain": [
       "<Figure size 640x480 with 1 Axes>"
      ]
     },
     "metadata": {},
     "output_type": "display_data"
    },
    {
     "data": {
      "image/png": "[encoded data removed]",
      "text/plain": [
       "<Figure size 640x480 with 1 Axes>"
      ]
     },
     "metadata": {},
     "output_type": "display_data"
    },
    {
     "data": {
      "image/png": "[encoded data removed]",
      "text/plain": [
       "<Figure size 640x480 with 1 Axes>"
      ]
     },
     "metadata": {},
     "output_type": "display_data"
    },
    {
     "data": {
      "image/png": "[encoded data removed]",
      "text/plain": [
       "<Figure size 640x480 with 1 Axes>"
      ]
     },
     "metadata": {},
     "output_type": "display_data"
    },
    {
     "data": {
      "image/png": "[encoded data removed]",
      "text/plain": [
       "<Figure size 640x480 with 1 Axes>"
      ]
     },
     "metadata": {},
     "output_type": "display_data"
    },
    {
     "data": {
      "image/png": "[encoded data removed]",
      "text/plain": [
       "<Figure size 640x480 with 1 Axes>"
      ]
     },
     "metadata": {},
     "output_type": "display_data"
    }
   ],
   "source": [
    "numerical_columns = df.select_dtypes(include=['int', 'float']).columns\n",
    "\n",
    "# Create separate boxplots for numerical columns\n",
    "for column in numerical_columns:\n",
    "    plt.figure()  # Create a new figure for each boxplot\n",
    "    sns.boxplot(x=column, data=df)\n",
    "    plt.title(f\"Boxplot of {column}\")  # Set the title for each boxplot\n",
    "    plt.show()"
   ]
  },
  {
   "cell_type": "code",
   "execution_count": 70,
   "metadata": {},
   "outputs": [],
   "source": [
    "df_t1 = df\n",
    "\n",
    "df_t2 = df"
   ]
  },
  {
   "cell_type": "code",
   "execution_count": null,
   "metadata": {},
   "outputs": [],
   "source": []
  },
  {
   "cell_type": "code",
   "execution_count": 78,
   "metadata": {},
   "outputs": [],
   "source": [
    "# Step 1: Calculate the first quartile (Q1) and third quartile (Q3) of the column\n",
    "Q1 = df_t1['user_reviews'].quantile(0.25)\n",
    "Q3 = df_t1['user_reviews'].quantile(0.75)\n",
    "\n",
    "# Step 2: Calculate the Interquartile Range (IQR)\n",
    "IQR = Q3 - Q1\n",
    "\n",
    "# Step 3: Define the outlier thresholds (1.5 times the IQR)\n",
    "lower_threshold = Q1 - 1.5 * IQR\n",
    "upper_threshold = Q3 + 1.5 * IQR\n",
    "\n",
    "# Step 4: Filter the DataFrame to keep only the rows within the defined thresholds\n",
    "df_t1 = df_t1[(df_t1['user_reviews'] >= lower_threshold) & (df_t1['user_reviews'] <= upper_threshold)]"
   ]
  },
  {
   "cell_type": "code",
   "execution_count": 77,
   "metadata": {},
   "outputs": [],
   "source": [
    "import pandas as pd\n",
    "\n",
    "# Step 1: Calculate the mean and standard deviation of the column\n",
    "mean_value = df_t2['user_reviews'].mean()\n",
    "std_deviation = df_t2['user_reviews'].std()\n",
    "\n",
    "# Step 2: Define a threshold to identify outliers (3 standard deviations from the mean)\n",
    "outlier_threshold = 3 * std_deviation\n",
    "\n",
    "# Step 3: Filter the DataFrame to keep only the rows within the defined threshold\n",
    "df_t2 = df_t2[abs(df_t2['user_reviews'] - mean_value) <= outlier_threshold]\n"
   ]
  },
  {
   "cell_type": "code",
   "execution_count": 79,
   "metadata": {},
   "outputs": [],
   "source": [
    "df_t1 = df_t1.drop(df_t1[df_t1['price_final'] > 50].index)\n",
    "\n",
    "df_t1 = df_t1.drop(df_t1[df_t1['price_original'] > 50].index)\n",
    "\n",
    "\n",
    "df_t2 = df_t2.drop(df_t2[df_t2['price_final'] > 50].index)\n",
    "\n",
    "df_t2 = df_t2.drop(df_t2[df_t2['price_original'] > 50].index)"
   ]
  },
  {
   "cell_type": "code",
   "execution_count": 80,
   "metadata": {},
   "outputs": [
    {
     "data": {
      "image/png": "[encoded data removed]",
      "text/plain": [
       "<Figure size 640x480 with 1 Axes>"
      ]
     },
     "metadata": {},
     "output_type": "display_data"
    },
    {
     "data": {
      "image/png": "[encoded data removed]",
      "text/plain": [
       "<Figure size 640x480 with 1 Axes>"
      ]
     },
     "metadata": {},
     "output_type": "display_data"
    },
    {
     "data": {
      "image/png": "[encoded data removed]",
      "text/plain": [
       "<Figure size 640x480 with 1 Axes>"
      ]
     },
     "metadata": {},
     "output_type": "display_data"
    },
    {
     "data": {
      "image/png": "[encoded data removed]",
      "text/plain": [
       "<Figure size 640x480 with 1 Axes>"
      ]
     },
     "metadata": {},
     "output_type": "display_data"
    },
    {
     "data": {
      "image/png": "[encoded data removed]",
      "text/plain": [
       "<Figure size 640x480 with 1 Axes>"
      ]
     },
     "metadata": {},
     "output_type": "display_data"
    },
    {
     "data": {
      "image/png": "[encoded data removed]",
      "text/plain": [
       "<Figure size 640x480 with 1 Axes>"
      ]
     },
     "metadata": {},
     "output_type": "display_data"
    }
   ],
   "source": [
    "numerical_columns = df_t1.select_dtypes(include=['int', 'float']).columns\n",
    "\n",
    "# Create separate boxplots for numerical columns\n",
    "for column in numerical_columns:\n",
    "    plt.figure()  # Create a new figure for each boxplot\n",
    "    sns.boxplot(x=column, data=df_t1)\n",
    "    plt.title(f\"Boxplot of {column}\")  # Set the title for each boxplot\n",
    "    plt.show()"
   ]
  },
  {
   "cell_type": "code",
   "execution_count": 81,
   "metadata": {},
   "outputs": [
    {
     "data": {
      "image/png": "[encoded data removed]",
      "text/plain": [
       "<Figure size 640x480 with 1 Axes>"
      ]
     },
     "metadata": {},
     "output_type": "display_data"
    },
    {
     "data": {
      "image/png": "[encoded data removed]",
      "text/plain": [
       "<Figure size 640x480 with 1 Axes>"
      ]
     },
     "metadata": {},
     "output_type": "display_data"
    },
    {
     "data": {
      "image/png": "[encoded data removed]",
      "text/plain": [
       "<Figure size 640x480 with 1 Axes>"
      ]
     },
     "metadata": {},
     "output_type": "display_data"
    },
    {
     "data": {
      "image/png": "[encoded data removed]",
      "text/plain": [
       "<Figure size 640x480 with 1 Axes>"
      ]
     },
     "metadata": {},
     "output_type": "display_data"
    },
    {
     "data": {
      "image/png": "[encoded data removed]",
      "text/plain": [
       "<Figure size 640x480 with 1 Axes>"
      ]
     },
     "metadata": {},
     "output_type": "display_data"
    },
    {
     "data": {
      "image/png": "[encoded data removed]",
      "text/plain": [
       "<Figure size 640x480 with 1 Axes>"
      ]
     },
     "metadata": {},
     "output_type": "display_data"
    }
   ],
   "source": [
    "numerical_columns = df_t2.select_dtypes(include=['int', 'float']).columns\n",
    "\n",
    "# Create separate boxplots for numerical columns\n",
    "for column in numerical_columns:\n",
    "    plt.figure()  # Create a new figure for each boxplot\n",
    "    sns.boxplot(x=column, data=df_t2)\n",
    "    plt.title(f\"Boxplot of {column}\")  # Set the title for each boxplot\n",
    "    plt.show()"
   ]
  },
  {
   "cell_type": "code",
   "execution_count": 65,
   "metadata": {},
   "outputs": [
    {
     "data": {
      "text/html": [
       "<div>\n",
       "<style scoped>\n",
       "    .dataframe tbody tr th:only-of-type {\n",
       "        vertical-align: middle;\n",
       "    }\n",
       "\n",
       "    .dataframe tbody tr th {\n",
       "        vertical-align: top;\n",
       "    }\n",
       "\n",
       "    .dataframe thead th {\n",
       "        text-align: right;\n",
       "    }\n",
       "</style>\n",
       "<table border=\"1\" class=\"dataframe\">\n",
       "  <thead>\n",
       "    <tr style=\"text-align: right;\">\n",
       "      <th></th>\n",
       "      <th>app_id</th>\n",
       "      <th>positive_ratio</th>\n",
       "      <th>user_reviews</th>\n",
       "      <th>price_final</th>\n",
       "      <th>price_original</th>\n",
       "      <th>discount</th>\n",
       "    </tr>\n",
       "  </thead>\n",
       "  <tbody>\n",
       "    <tr>\n",
       "      <th>count</th>\n",
       "      <td>5.050300e+04</td>\n",
       "      <td>50503.000000</td>\n",
       "      <td>5.050300e+04</td>\n",
       "      <td>50503.000000</td>\n",
       "      <td>50503.000000</td>\n",
       "      <td>50503.000000</td>\n",
       "    </tr>\n",
       "    <tr>\n",
       "      <th>mean</th>\n",
       "      <td>1.048405e+06</td>\n",
       "      <td>77.033622</td>\n",
       "      <td>1.776163e+03</td>\n",
       "      <td>8.549623</td>\n",
       "      <td>9.166772</td>\n",
       "      <td>5.716254</td>\n",
       "    </tr>\n",
       "    <tr>\n",
       "      <th>std</th>\n",
       "      <td>6.058853e+05</td>\n",
       "      <td>18.261259</td>\n",
       "      <td>3.912721e+04</td>\n",
       "      <td>11.468167</td>\n",
       "      <td>11.917905</td>\n",
       "      <td>18.779479</td>\n",
       "    </tr>\n",
       "    <tr>\n",
       "      <th>min</th>\n",
       "      <td>1.000000e+01</td>\n",
       "      <td>0.000000</td>\n",
       "      <td>1.000000e+01</td>\n",
       "      <td>0.000000</td>\n",
       "      <td>0.000000</td>\n",
       "      <td>0.000000</td>\n",
       "    </tr>\n",
       "    <tr>\n",
       "      <th>25%</th>\n",
       "      <td>5.265205e+05</td>\n",
       "      <td>67.000000</td>\n",
       "      <td>1.900000e+01</td>\n",
       "      <td>0.990000</td>\n",
       "      <td>1.990000</td>\n",
       "      <td>0.000000</td>\n",
       "    </tr>\n",
       "    <tr>\n",
       "      <th>50%</th>\n",
       "      <td>9.793100e+05</td>\n",
       "      <td>81.000000</td>\n",
       "      <td>4.800000e+01</td>\n",
       "      <td>4.990000</td>\n",
       "      <td>4.990000</td>\n",
       "      <td>0.000000</td>\n",
       "    </tr>\n",
       "    <tr>\n",
       "      <th>75%</th>\n",
       "      <td>1.514985e+06</td>\n",
       "      <td>91.000000</td>\n",
       "      <td>2.040000e+02</td>\n",
       "      <td>10.990000</td>\n",
       "      <td>12.990000</td>\n",
       "      <td>0.000000</td>\n",
       "    </tr>\n",
       "    <tr>\n",
       "      <th>max</th>\n",
       "      <td>2.488153e+06</td>\n",
       "      <td>100.000000</td>\n",
       "      <td>7.297791e+06</td>\n",
       "      <td>299.990000</td>\n",
       "      <td>299.990000</td>\n",
       "      <td>90.000000</td>\n",
       "    </tr>\n",
       "  </tbody>\n",
       "</table>\n",
       "</div>"
      ],
      "text/plain": [
       "             app_id  positive_ratio  user_reviews   price_final  \\\n",
       "count  5.050300e+04    50503.000000  5.050300e+04  50503.000000   \n",
       "mean   1.048405e+06       77.033622  1.776163e+03      8.549623   \n",
       "std    6.058853e+05       18.261259  3.912721e+04     11.468167   \n",
       "min    1.000000e+01        0.000000  1.000000e+01      0.000000   \n",
       "25%    5.265205e+05       67.000000  1.900000e+01      0.990000   \n",
       "50%    9.793100e+05       81.000000  4.800000e+01      4.990000   \n",
       "75%    1.514985e+06       91.000000  2.040000e+02     10.990000   \n",
       "max    2.488153e+06      100.000000  7.297791e+06    299.990000   \n",
       "\n",
       "       price_original      discount  \n",
       "count    50503.000000  50503.000000  \n",
       "mean         9.166772      5.716254  \n",
       "std         11.917905     18.779479  \n",
       "min          0.000000      0.000000  \n",
       "25%          1.990000      0.000000  \n",
       "50%          4.990000      0.000000  \n",
       "75%         12.990000      0.000000  \n",
       "max        299.990000     90.000000  "
      ]
     },
     "execution_count": 65,
     "metadata": {},
     "output_type": "execute_result"
    }
   ],
   "source": [
    "df.describe()"
   ]
  },
  {
   "cell_type": "code",
   "execution_count": 66,
   "metadata": {},
   "outputs": [
    {
     "data": {
      "text/html": [
       "<div>\n",
       "<style scoped>\n",
       "    .dataframe tbody tr th:only-of-type {\n",
       "        vertical-align: middle;\n",
       "    }\n",
       "\n",
       "    .dataframe tbody tr th {\n",
       "        vertical-align: top;\n",
       "    }\n",
       "\n",
       "    .dataframe thead th {\n",
       "        text-align: right;\n",
       "    }\n",
       "</style>\n",
       "<table border=\"1\" class=\"dataframe\">\n",
       "  <thead>\n",
       "    <tr style=\"text-align: right;\">\n",
       "      <th></th>\n",
       "      <th>app_id</th>\n",
       "      <th>positive_ratio</th>\n",
       "      <th>user_reviews</th>\n",
       "      <th>price_final</th>\n",
       "      <th>price_original</th>\n",
       "      <th>discount</th>\n",
       "    </tr>\n",
       "  </thead>\n",
       "  <tbody>\n",
       "    <tr>\n",
       "      <th>count</th>\n",
       "      <td>4.218600e+04</td>\n",
       "      <td>42186.000000</td>\n",
       "      <td>42186.000000</td>\n",
       "      <td>42186.000000</td>\n",
       "      <td>42186.000000</td>\n",
       "      <td>42186.000000</td>\n",
       "    </tr>\n",
       "    <tr>\n",
       "      <th>mean</th>\n",
       "      <td>1.094045e+06</td>\n",
       "      <td>76.134547</td>\n",
       "      <td>77.363675</td>\n",
       "      <td>7.042153</td>\n",
       "      <td>7.557307</td>\n",
       "      <td>5.852178</td>\n",
       "    </tr>\n",
       "    <tr>\n",
       "      <th>std</th>\n",
       "      <td>6.032104e+05</td>\n",
       "      <td>18.867024</td>\n",
       "      <td>97.113432</td>\n",
       "      <td>7.967081</td>\n",
       "      <td>8.222626</td>\n",
       "      <td>19.024190</td>\n",
       "    </tr>\n",
       "    <tr>\n",
       "      <th>min</th>\n",
       "      <td>6.300000e+02</td>\n",
       "      <td>0.000000</td>\n",
       "      <td>10.000000</td>\n",
       "      <td>0.000000</td>\n",
       "      <td>0.000000</td>\n",
       "      <td>0.000000</td>\n",
       "    </tr>\n",
       "    <tr>\n",
       "      <th>25%</th>\n",
       "      <td>5.712425e+05</td>\n",
       "      <td>65.000000</td>\n",
       "      <td>17.000000</td>\n",
       "      <td>0.990000</td>\n",
       "      <td>0.990000</td>\n",
       "      <td>0.000000</td>\n",
       "    </tr>\n",
       "    <tr>\n",
       "      <th>50%</th>\n",
       "      <td>1.034885e+06</td>\n",
       "      <td>80.000000</td>\n",
       "      <td>35.000000</td>\n",
       "      <td>4.990000</td>\n",
       "      <td>4.990000</td>\n",
       "      <td>0.000000</td>\n",
       "    </tr>\n",
       "    <tr>\n",
       "      <th>75%</th>\n",
       "      <td>1.566828e+06</td>\n",
       "      <td>91.000000</td>\n",
       "      <td>93.000000</td>\n",
       "      <td>9.990000</td>\n",
       "      <td>9.990000</td>\n",
       "      <td>0.000000</td>\n",
       "    </tr>\n",
       "    <tr>\n",
       "      <th>max</th>\n",
       "      <td>2.488153e+06</td>\n",
       "      <td>100.000000</td>\n",
       "      <td>481.000000</td>\n",
       "      <td>49.990000</td>\n",
       "      <td>49.990000</td>\n",
       "      <td>90.000000</td>\n",
       "    </tr>\n",
       "  </tbody>\n",
       "</table>\n",
       "</div>"
      ],
      "text/plain": [
       "             app_id  positive_ratio  user_reviews   price_final  \\\n",
       "count  4.218600e+04    42186.000000  42186.000000  42186.000000   \n",
       "mean   1.094045e+06       76.134547     77.363675      7.042153   \n",
       "std    6.032104e+05       18.867024     97.113432      7.967081   \n",
       "min    6.300000e+02        0.000000     10.000000      0.000000   \n",
       "25%    5.712425e+05       65.000000     17.000000      0.990000   \n",
       "50%    1.034885e+06       80.000000     35.000000      4.990000   \n",
       "75%    1.566828e+06       91.000000     93.000000      9.990000   \n",
       "max    2.488153e+06      100.000000    481.000000     49.990000   \n",
       "\n",
       "       price_original      discount  \n",
       "count    42186.000000  42186.000000  \n",
       "mean         7.557307      5.852178  \n",
       "std          8.222626     19.024190  \n",
       "min          0.000000      0.000000  \n",
       "25%          0.990000      0.000000  \n",
       "50%          4.990000      0.000000  \n",
       "75%          9.990000      0.000000  \n",
       "max         49.990000     90.000000  "
      ]
     },
     "execution_count": 66,
     "metadata": {},
     "output_type": "execute_result"
    }
   ],
   "source": [
    "df_t1.describe()"
   ]
  },
  {
   "cell_type": "code",
   "execution_count": 82,
   "metadata": {},
   "outputs": [
    {
     "data": {
      "text/html": [
       "<div>\n",
       "<style scoped>\n",
       "    .dataframe tbody tr th:only-of-type {\n",
       "        vertical-align: middle;\n",
       "    }\n",
       "\n",
       "    .dataframe tbody tr th {\n",
       "        vertical-align: top;\n",
       "    }\n",
       "\n",
       "    .dataframe thead th {\n",
       "        text-align: right;\n",
       "    }\n",
       "</style>\n",
       "<table border=\"1\" class=\"dataframe\">\n",
       "  <thead>\n",
       "    <tr style=\"text-align: right;\">\n",
       "      <th></th>\n",
       "      <th>app_id</th>\n",
       "      <th>positive_ratio</th>\n",
       "      <th>user_reviews</th>\n",
       "      <th>price_final</th>\n",
       "      <th>price_original</th>\n",
       "      <th>discount</th>\n",
       "    </tr>\n",
       "  </thead>\n",
       "  <tbody>\n",
       "    <tr>\n",
       "      <th>count</th>\n",
       "      <td>4.821500e+04</td>\n",
       "      <td>48215.000000</td>\n",
       "      <td>48215.000000</td>\n",
       "      <td>48215.000000</td>\n",
       "      <td>48215.000000</td>\n",
       "      <td>48215.000000</td>\n",
       "    </tr>\n",
       "    <tr>\n",
       "      <th>mean</th>\n",
       "      <td>1.059120e+06</td>\n",
       "      <td>76.772249</td>\n",
       "      <td>260.377517</td>\n",
       "      <td>7.605534</td>\n",
       "      <td>8.136653</td>\n",
       "      <td>5.682443</td>\n",
       "    </tr>\n",
       "    <tr>\n",
       "      <th>std</th>\n",
       "      <td>6.033756e+05</td>\n",
       "      <td>18.381772</td>\n",
       "      <td>627.530923</td>\n",
       "      <td>8.494264</td>\n",
       "      <td>8.745097</td>\n",
       "      <td>18.717835</td>\n",
       "    </tr>\n",
       "    <tr>\n",
       "      <th>min</th>\n",
       "      <td>3.000000e+01</td>\n",
       "      <td>0.000000</td>\n",
       "      <td>10.000000</td>\n",
       "      <td>0.000000</td>\n",
       "      <td>0.000000</td>\n",
       "      <td>0.000000</td>\n",
       "    </tr>\n",
       "    <tr>\n",
       "      <th>25%</th>\n",
       "      <td>5.393350e+05</td>\n",
       "      <td>66.000000</td>\n",
       "      <td>18.000000</td>\n",
       "      <td>0.990000</td>\n",
       "      <td>0.990000</td>\n",
       "      <td>0.000000</td>\n",
       "    </tr>\n",
       "    <tr>\n",
       "      <th>50%</th>\n",
       "      <td>9.927500e+05</td>\n",
       "      <td>81.000000</td>\n",
       "      <td>44.000000</td>\n",
       "      <td>4.990000</td>\n",
       "      <td>4.990000</td>\n",
       "      <td>0.000000</td>\n",
       "    </tr>\n",
       "    <tr>\n",
       "      <th>75%</th>\n",
       "      <td>1.525225e+06</td>\n",
       "      <td>91.000000</td>\n",
       "      <td>165.000000</td>\n",
       "      <td>9.990000</td>\n",
       "      <td>10.990000</td>\n",
       "      <td>0.000000</td>\n",
       "    </tr>\n",
       "    <tr>\n",
       "      <th>max</th>\n",
       "      <td>2.488153e+06</td>\n",
       "      <td>100.000000</td>\n",
       "      <td>5079.000000</td>\n",
       "      <td>49.990000</td>\n",
       "      <td>49.990000</td>\n",
       "      <td>90.000000</td>\n",
       "    </tr>\n",
       "  </tbody>\n",
       "</table>\n",
       "</div>"
      ],
      "text/plain": [
       "             app_id  positive_ratio  user_reviews   price_final  \\\n",
       "count  4.821500e+04    48215.000000  48215.000000  48215.000000   \n",
       "mean   1.059120e+06       76.772249    260.377517      7.605534   \n",
       "std    6.033756e+05       18.381772    627.530923      8.494264   \n",
       "min    3.000000e+01        0.000000     10.000000      0.000000   \n",
       "25%    5.393350e+05       66.000000     18.000000      0.990000   \n",
       "50%    9.927500e+05       81.000000     44.000000      4.990000   \n",
       "75%    1.525225e+06       91.000000    165.000000      9.990000   \n",
       "max    2.488153e+06      100.000000   5079.000000     49.990000   \n",
       "\n",
       "       price_original      discount  \n",
       "count    48215.000000  48215.000000  \n",
       "mean         8.136653      5.682443  \n",
       "std          8.745097     18.717835  \n",
       "min          0.000000      0.000000  \n",
       "25%          0.990000      0.000000  \n",
       "50%          4.990000      0.000000  \n",
       "75%         10.990000      0.000000  \n",
       "max         49.990000     90.000000  "
      ]
     },
     "execution_count": 82,
     "metadata": {},
     "output_type": "execute_result"
    }
   ],
   "source": [
    "df_t2.describe()"
   ]
  },
  {
   "cell_type": "code",
   "execution_count": 67,
   "metadata": {},
   "outputs": [
    {
     "name": "stdout",
     "output_type": "stream",
     "text": [
      "<class 'pandas.core.frame.DataFrame'>\n",
      "RangeIndex: 50503 entries, 0 to 50502\n",
      "Data columns (total 15 columns):\n",
      " #   Column          Non-Null Count  Dtype  \n",
      "---  ------          --------------  -----  \n",
      " 0   app_id          50503 non-null  int64  \n",
      " 1   title           50503 non-null  object \n",
      " 2   date_release    50503 non-null  object \n",
      " 3   win             50503 non-null  bool   \n",
      " 4   mac             50503 non-null  bool   \n",
      " 5   linux           50503 non-null  bool   \n",
      " 6   rating          50503 non-null  object \n",
      " 7   positive_ratio  50503 non-null  int64  \n",
      " 8   user_reviews    50503 non-null  int64  \n",
      " 9   price_final     50503 non-null  float64\n",
      " 10  price_original  50503 non-null  float64\n",
      " 11  discount        50503 non-null  float64\n",
      " 12  steam_deck      50503 non-null  bool   \n",
      " 13  description     50503 non-null  object \n",
      " 14  tags            50503 non-null  object \n",
      "dtypes: bool(4), float64(3), int64(3), object(5)\n",
      "memory usage: 4.4+ MB\n"
     ]
    }
   ],
   "source": [
    "df.info()"
   ]
  },
  {
   "cell_type": "code",
   "execution_count": 68,
   "metadata": {},
   "outputs": [
    {
     "name": "stdout",
     "output_type": "stream",
     "text": [
      "<class 'pandas.core.frame.DataFrame'>\n",
      "Index: 42186 entries, 1 to 50502\n",
      "Data columns (total 15 columns):\n",
      " #   Column          Non-Null Count  Dtype  \n",
      "---  ------          --------------  -----  \n",
      " 0   app_id          42186 non-null  int64  \n",
      " 1   title           42186 non-null  object \n",
      " 2   date_release    42186 non-null  object \n",
      " 3   win             42186 non-null  bool   \n",
      " 4   mac             42186 non-null  bool   \n",
      " 5   linux           42186 non-null  bool   \n",
      " 6   rating          42186 non-null  object \n",
      " 7   positive_ratio  42186 non-null  int64  \n",
      " 8   user_reviews    42186 non-null  int64  \n",
      " 9   price_final     42186 non-null  float64\n",
      " 10  price_original  42186 non-null  float64\n",
      " 11  discount        42186 non-null  float64\n",
      " 12  steam_deck      42186 non-null  bool   \n",
      " 13  description     42186 non-null  object \n",
      " 14  tags            42186 non-null  object \n",
      "dtypes: bool(4), float64(3), int64(3), object(5)\n",
      "memory usage: 4.0+ MB\n"
     ]
    }
   ],
   "source": [
    "df_t1.info()"
   ]
  },
  {
   "cell_type": "code",
   "execution_count": 83,
   "metadata": {},
   "outputs": [
    {
     "name": "stdout",
     "output_type": "stream",
     "text": [
      "<class 'pandas.core.frame.DataFrame'>\n",
      "Index: 48215 entries, 0 to 50502\n",
      "Data columns (total 15 columns):\n",
      " #   Column          Non-Null Count  Dtype  \n",
      "---  ------          --------------  -----  \n",
      " 0   app_id          48215 non-null  int64  \n",
      " 1   title           48215 non-null  object \n",
      " 2   date_release    48215 non-null  object \n",
      " 3   win             48215 non-null  bool   \n",
      " 4   mac             48215 non-null  bool   \n",
      " 5   linux           48215 non-null  bool   \n",
      " 6   rating          48215 non-null  object \n",
      " 7   positive_ratio  48215 non-null  int64  \n",
      " 8   user_reviews    48215 non-null  int64  \n",
      " 9   price_final     48215 non-null  float64\n",
      " 10  price_original  48215 non-null  float64\n",
      " 11  discount        48215 non-null  float64\n",
      " 12  steam_deck      48215 non-null  bool   \n",
      " 13  description     48215 non-null  object \n",
      " 14  tags            48215 non-null  object \n",
      "dtypes: bool(4), float64(3), int64(3), object(5)\n",
      "memory usage: 4.6+ MB\n"
     ]
    }
   ],
   "source": [
    "df_t2.info()"
   ]
  },
  {
   "cell_type": "code",
   "execution_count": 69,
   "metadata": {},
   "outputs": [
    {
     "data": {
      "text/plain": [
       "0.8353167138585826"
      ]
     },
     "execution_count": 69,
     "metadata": {},
     "output_type": "execute_result"
    }
   ],
   "source": [
    "42186/50503"
   ]
  },
  {
   "cell_type": "markdown",
   "metadata": {},
   "source": [
    "### The cleaning way is good as the mean of columns did not change much"
   ]
  },
  {
   "cell_type": "code",
   "execution_count": null,
   "metadata": {},
   "outputs": [],
   "source": [
    "df_clean = df_t1"
   ]
  },
  {
   "cell_type": "code",
   "execution_count": null,
   "metadata": {},
   "outputs": [],
   "source": [
    "sns.boxenplot(x = 'user_reviews', data = df_clean)"
   ]
  },
  {
   "cell_type": "code",
   "execution_count": null,
   "metadata": {},
   "outputs": [],
   "source": [
    "df_clean.head()"
   ]
  },
  {
   "cell_type": "code",
   "execution_count": null,
   "metadata": {},
   "outputs": [],
   "source": [
    "# Drop description column\n",
    "df_clean = df_clean.drop('description', axis=1)"
   ]
  },
  {
   "cell_type": "code",
   "execution_count": null,
   "metadata": {},
   "outputs": [],
   "source": [
    "df_clean[['win', 'mac', 'linux', 'steam_deck']].apply(pd.value_counts)"
   ]
  },
  {
   "cell_type": "markdown",
   "metadata": {},
   "source": [
    "### Drop steam_deck columns as only 2 records without steam deck"
   ]
  },
  {
   "cell_type": "code",
   "execution_count": null,
   "metadata": {},
   "outputs": [],
   "source": [
    "df_clean = df_clean.drop('steam_deck', axis=1)"
   ]
  },
  {
   "cell_type": "code",
   "execution_count": null,
   "metadata": {},
   "outputs": [],
   "source": [
    "platform_counts = df_clean[['win', 'mac', 'linux']].sum()\n",
    "\n",
    "# Plotting the pie chart\n",
    "plt.figure(figsize=(6, 6))\n",
    "plt.pie(platform_counts, labels=platform_counts.index, autopct='%1.1f%%')\n",
    "plt.title('Platform Distribution')\n",
    "plt.show()"
   ]
  },
  {
   "cell_type": "code",
   "execution_count": null,
   "metadata": {},
   "outputs": [],
   "source": [
    "rating_percentage = df_clean['rating'].value_counts(normalize=True) * 100\n",
    "\n",
    "# Create a pie chart\n",
    "plt.figure(figsize=(20, 10))\n",
    "plt.pie(rating_percentage, labels=rating_percentage.index, autopct='%1.1f%%', startangle=140)\n",
    "plt.title('Percentage of Ratings')\n",
    "plt.axis('equal')  # Equal aspect ratio ensures that pie is drawn as a circle.\n",
    "plt.show()"
   ]
  },
  {
   "cell_type": "code",
   "execution_count": null,
   "metadata": {},
   "outputs": [],
   "source": [
    "# plot the histograms for all three DataFrames together\n",
    "sns.histplot(data=df_clean['positive_ratio'], kde=True)\n"
   ]
  },
  {
   "cell_type": "code",
   "execution_count": null,
   "metadata": {},
   "outputs": [],
   "source": [
    "df_clean.info()"
   ]
  },
  {
   "cell_type": "code",
   "execution_count": null,
   "metadata": {},
   "outputs": [],
   "source": [
    "df_clean['rating'].unique()"
   ]
  },
  {
   "cell_type": "code",
   "execution_count": null,
   "metadata": {},
   "outputs": [],
   "source": [
    "def rating_cat(x):\n",
    "    if x in ['Overwhelmingly Positive', 'Very Positive', 'Positive']:\n",
    "        return 'Positive'\n",
    "    elif x in ['Mostly Positive', 'Mixed', 'Mostly Negative']:\n",
    "        return 'Neutral'\n",
    "    else:\n",
    "        return 'Negative'"
   ]
  },
  {
   "cell_type": "code",
   "execution_count": null,
   "metadata": {},
   "outputs": [],
   "source": [
    "df_clean['rating_group'] = df_clean['rating'].apply(rating_cat)"
   ]
  },
  {
   "cell_type": "code",
   "execution_count": null,
   "metadata": {},
   "outputs": [],
   "source": [
    "df_clean = df_clean.drop('rating', axis=1)"
   ]
  },
  {
   "cell_type": "code",
   "execution_count": null,
   "metadata": {},
   "outputs": [],
   "source": [
    "df_clean.head(10)"
   ]
  },
  {
   "cell_type": "code",
   "execution_count": null,
   "metadata": {},
   "outputs": [],
   "source": [
    "df_clean = df_clean.reset_index()"
   ]
  },
  {
   "cell_type": "code",
   "execution_count": null,
   "metadata": {},
   "outputs": [],
   "source": [
    "df_clean.info()"
   ]
  },
  {
   "cell_type": "code",
   "execution_count": null,
   "metadata": {},
   "outputs": [],
   "source": [
    "rating_dummies = pd.get_dummies(df_clean['rating_group'])\n",
    "\n",
    "df_clean = pd.concat([df_clean,rating_dummies], axis=1)"
   ]
  },
  {
   "cell_type": "code",
   "execution_count": null,
   "metadata": {},
   "outputs": [],
   "source": [
    "df_clean = df_clean.drop('rating_group', axis=1)"
   ]
  },
  {
   "cell_type": "code",
   "execution_count": null,
   "metadata": {},
   "outputs": [],
   "source": [
    "df_clean.info()"
   ]
  },
  {
   "cell_type": "code",
   "execution_count": null,
   "metadata": {},
   "outputs": [],
   "source": [
    "def discount_YN(x):\n",
    "    if x > 0:\n",
    "        return True\n",
    "    else:\n",
    "        return False"
   ]
  },
  {
   "cell_type": "code",
   "execution_count": null,
   "metadata": {},
   "outputs": [],
   "source": [
    "df_clean['discount_YN'] = df_clean['discount'].apply(discount_YN)"
   ]
  },
  {
   "cell_type": "code",
   "execution_count": null,
   "metadata": {},
   "outputs": [],
   "source": [
    "df_clean_t1 = df_clean"
   ]
  },
  {
   "cell_type": "code",
   "execution_count": null,
   "metadata": {},
   "outputs": [],
   "source": [
    "df_clean_t1 = df_clean_t1.explode('tags')"
   ]
  },
  {
   "cell_type": "code",
   "execution_count": null,
   "metadata": {},
   "outputs": [],
   "source": [
    "df_clean_t1.head()"
   ]
  },
  {
   "cell_type": "code",
   "execution_count": null,
   "metadata": {},
   "outputs": [],
   "source": [
    "# Create season dummies\n",
    "tags_dummies = pd.get_dummies(df_clean_t1['tags'])"
   ]
  },
  {
   "cell_type": "code",
   "execution_count": null,
   "metadata": {},
   "outputs": [],
   "source": [
    "df_clean_t1 = pd.concat([df_clean_t1,tags_dummies], axis=1)\n"
   ]
  },
  {
   "cell_type": "code",
   "execution_count": null,
   "metadata": {},
   "outputs": [],
   "source": [
    "import pandas as pd\n",
    "\n",
    "# Assuming you have a DataFrame named 'df' with the columns as shown in your example\n",
    "\n",
    "# List of columns to group by (excluding 'tags')\n",
    "groupby_columns = ['app_id', 'title', 'date_release', 'win', 'mac', 'linux', 'positive_ratio', 'user_reviews', 'price_final', 'price_original', 'discount', 'Negative', 'Neutral', 'Positive', 'discount_YN']\n",
    "\n",
    "# Aggregate the data using 'max()' as an example (choose the appropriate aggregation function for your use case)\n",
    "aggregated_df = df_clean_t1.groupby(groupby_columns, as_index=False).max()\n",
    "\n",
    "aggregated_df\n"
   ]
  },
  {
   "cell_type": "code",
   "execution_count": null,
   "metadata": {},
   "outputs": [],
   "source": [
    "# count the number of unique value in the tags column\n",
    "value_counts_series_t10 = df_clean_t1['tags'].value_counts().head(10)\n",
    "\n",
    "# Plotting the pie chart using Matplotlib\n",
    "plt.figure(figsize=(8, 8))\n",
    "plt.pie(value_counts_series_t10, labels=value_counts_series_t10.index, autopct='%1.1f%%', startangle=140)\n",
    "plt.title('Pie Chart of Top 10 Tags')\n",
    "plt.axis('equal')  # Equal aspect ratio ensures that the pie chart is drawn as a circle.\n",
    "plt.show()"
   ]
  },
  {
   "cell_type": "code",
   "execution_count": null,
   "metadata": {},
   "outputs": [],
   "source": [
    "top10_tag = value_counts_series_t10.index.tolist()\n",
    "\n",
    "# set up the list of columns that are not going to drop\n",
    "allowed_columns = top10_tag + groupby_columns\n",
    "\n",
    "# drop columns that are not in the 'allowed_columns' list\n",
    "filtered_df = aggregated_df.drop(columns=[col for col in aggregated_df.columns if col not in allowed_columns])\n",
    "\n",
    "filtered_df"
   ]
  },
  {
   "cell_type": "code",
   "execution_count": null,
   "metadata": {},
   "outputs": [],
   "source": [
    "filtered_df.info()"
   ]
  },
  {
   "cell_type": "code",
   "execution_count": null,
   "metadata": {},
   "outputs": [],
   "source": [
    "sns.scatterplot(x= 'user_reviews', y= 'positive_ratio', data= filtered_df)"
   ]
  },
  {
   "cell_type": "code",
   "execution_count": null,
   "metadata": {},
   "outputs": [],
   "source": [
    "# Get all column names as a list\n",
    "column_names = df_clean[]\n",
    "\n",
    "\n",
    "# Combine all column names into a single variable\n",
    "correlation_matrix = df_clean[column_names].corr()\n",
    "\n",
    "print(correlation_matrix)\n",
    "\n",
    "# Plot the correlation matrix as a heatmap\n",
    "plt.figure(figsize=(20, 20))\n",
    "sns.heatmap(correlation_matrix, annot=True, cmap=\"coolwarm\", fmt=\".2f\", square=True)\n",
    "plt.title(\"Correlation Matrix\")\n",
    "plt.show()"
   ]
  },
  {
   "cell_type": "code",
   "execution_count": null,
   "metadata": {},
   "outputs": [],
   "source": []
  }
 ],
 "metadata": {
  "kernelspec": {
   "display_name": "Python 3",
   "language": "python",
   "name": "python3"
  },
  "language_info": {
   "codemirror_mode": {
    "name": "ipython",
    "version": 3
   },
   "file_extension": ".py",
   "mimetype": "text/x-python",
   "name": "python",
   "nbconvert_exporter": "python",
   "pygments_lexer": "ipython3",
   "version": "3.11.4"
  },
  "orig_nbformat": 4
 },
 "nbformat": 4,
 "nbformat_minor": 2
}
