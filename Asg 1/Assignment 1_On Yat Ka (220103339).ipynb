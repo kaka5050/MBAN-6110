{
 "cells": [
  {
   "attachments": {},
   "cell_type": "markdown",
   "metadata": {},
   "source": [
    "\n",
    "<font size=\"10\">Assignment 1</font>"
   ]
  },
  {
   "attachments": {},
   "cell_type": "markdown",
   "metadata": {},
   "source": [
    "### 1) What conclusions can you draw about sales performance of various products and regions?\n",
    "<p> For Product, the best selling product is Product_5 and worst selling product is Product_3. The top 10 best selling products are 'Product_50', 'Product_30', 'Product_2', 'Product_48', 'Product_16', 'Product_40', 'Product_29', 'Product_19', 'Product_4', 'Product_13', list in descending order. Can refer to part 2.2</p>\n",
    "<p> For Region, Region_9 is having the best performance, while Region_7 is having the worst. The sales performance is in the following order : 'Region_9', 'Region_8', 'Region_4', 'Region_10', 'Region_5', 'Region_2', 'Region_3', 'Region_6', 'Region_1', 'Region_7'. Can refer to part 2.3 </p>\n",
    "  \n",
    "### 2) What recommendations do you have for the business?\n",
    "<p> 1. I would recommend the business to </p>\n",
    "\n",
    "### 3) Describe your data cleaning approach. How and why did you decide on which cleaning techniques to use?\n",
    "<p> 1. Drop all the duplicated rows and missing value: I used drop_duplicates() to drop the duplicated rows, since each rows means one transaction, it is impossible for the same transaction to happen with same price, units sold on the same date. For missing value, I drop the rows with missing value in Product and Units Sold column. Since we need to analyze the sales performance of products and price. For further explaination and codes, please refer to part (1.1) </p>\n",
    "<p> 2. Remove outliers: I used drop() to drop the outliers for the price rows but not for the unit sold row, as the price row is having a larger variation in data. For further explaination and codes, please refer to part (1.2) </p>\n",
    "<p> 3.  Fill Null value for Price and Unit sold columns: I used fillna() to fill all the missing value in price and units sold column with the means. Since I don't need to drop the rows and this method can retain the overall distribution of the data and preserve the mean. For further explaination and codes, please refer to part (1.3) </p>"
   ]
  },
  {
   "cell_type": "code",
   "execution_count": 102,
   "metadata": {},
   "outputs": [],
   "source": [
    "# import all the libraries \n",
    "import numpy as np\n",
    "import pandas as pd\n",
    "import matplotlib.pyplot as plt\n",
    "import seaborn as sns\n",
    "import random"
   ]
  },
  {
   "cell_type": "code",
   "execution_count": 103,
   "metadata": {},
   "outputs": [],
   "source": [
    "# load csv\n",
    "df = pd.read_csv(\"https://raw.githubusercontent.com/kaka5050/MBAN-6110/main/Asg%201/sales_data.csv\")"
   ]
  },
  {
   "cell_type": "code",
   "execution_count": 104,
   "metadata": {},
   "outputs": [
    {
     "name": "stdout",
     "output_type": "stream",
     "text": [
      "<class 'pandas.core.frame.DataFrame'>\n",
      "RangeIndex: 1050 entries, 0 to 1049\n",
      "Data columns (total 5 columns):\n",
      " #   Column      Non-Null Count  Dtype  \n",
      "---  ------      --------------  -----  \n",
      " 0   Product     947 non-null    object \n",
      " 1   Region      946 non-null    object \n",
      " 2   Price       945 non-null    float64\n",
      " 3   Units Sold  946 non-null    float64\n",
      " 4   Sale Date   1050 non-null   object \n",
      "dtypes: float64(2), object(3)\n",
      "memory usage: 41.1+ KB\n"
     ]
    }
   ],
   "source": [
    "# show the info of the data\n",
    "df.info()"
   ]
  },
  {
   "attachments": {},
   "cell_type": "markdown",
   "metadata": {},
   "source": [
    "There are 1050 rows"
   ]
  },
  {
   "cell_type": "code",
   "execution_count": 105,
   "metadata": {},
   "outputs": [
    {
     "data": {
      "text/html": [
       "<div>\n",
       "<style scoped>\n",
       "    .dataframe tbody tr th:only-of-type {\n",
       "        vertical-align: middle;\n",
       "    }\n",
       "\n",
       "    .dataframe tbody tr th {\n",
       "        vertical-align: top;\n",
       "    }\n",
       "\n",
       "    .dataframe thead th {\n",
       "        text-align: right;\n",
       "    }\n",
       "</style>\n",
       "<table border=\"1\" class=\"dataframe\">\n",
       "  <thead>\n",
       "    <tr style=\"text-align: right;\">\n",
       "      <th></th>\n",
       "      <th>Product</th>\n",
       "      <th>Region</th>\n",
       "      <th>Price</th>\n",
       "      <th>Units Sold</th>\n",
       "      <th>Sale Date</th>\n",
       "    </tr>\n",
       "  </thead>\n",
       "  <tbody>\n",
       "    <tr>\n",
       "      <th>count</th>\n",
       "      <td>947</td>\n",
       "      <td>946</td>\n",
       "      <td>945.000000</td>\n",
       "      <td>946.000000</td>\n",
       "      <td>1050</td>\n",
       "    </tr>\n",
       "    <tr>\n",
       "      <th>unique</th>\n",
       "      <td>50</td>\n",
       "      <td>10</td>\n",
       "      <td>NaN</td>\n",
       "      <td>NaN</td>\n",
       "      <td>1000</td>\n",
       "    </tr>\n",
       "    <tr>\n",
       "      <th>top</th>\n",
       "      <td>Product_45</td>\n",
       "      <td>Region_9</td>\n",
       "      <td>NaN</td>\n",
       "      <td>NaN</td>\n",
       "      <td>2022-07-28</td>\n",
       "    </tr>\n",
       "    <tr>\n",
       "      <th>freq</th>\n",
       "      <td>28</td>\n",
       "      <td>109</td>\n",
       "      <td>NaN</td>\n",
       "      <td>NaN</td>\n",
       "      <td>2</td>\n",
       "    </tr>\n",
       "    <tr>\n",
       "      <th>mean</th>\n",
       "      <td>NaN</td>\n",
       "      <td>NaN</td>\n",
       "      <td>107.598688</td>\n",
       "      <td>10.048626</td>\n",
       "      <td>NaN</td>\n",
       "    </tr>\n",
       "    <tr>\n",
       "      <th>std</th>\n",
       "      <td>NaN</td>\n",
       "      <td>NaN</td>\n",
       "      <td>124.020322</td>\n",
       "      <td>3.172261</td>\n",
       "      <td>NaN</td>\n",
       "    </tr>\n",
       "    <tr>\n",
       "      <th>min</th>\n",
       "      <td>NaN</td>\n",
       "      <td>NaN</td>\n",
       "      <td>0.200000</td>\n",
       "      <td>2.000000</td>\n",
       "      <td>NaN</td>\n",
       "    </tr>\n",
       "    <tr>\n",
       "      <th>25%</th>\n",
       "      <td>NaN</td>\n",
       "      <td>NaN</td>\n",
       "      <td>29.430000</td>\n",
       "      <td>8.000000</td>\n",
       "      <td>NaN</td>\n",
       "    </tr>\n",
       "    <tr>\n",
       "      <th>50%</th>\n",
       "      <td>NaN</td>\n",
       "      <td>NaN</td>\n",
       "      <td>78.130000</td>\n",
       "      <td>10.000000</td>\n",
       "      <td>NaN</td>\n",
       "    </tr>\n",
       "    <tr>\n",
       "      <th>75%</th>\n",
       "      <td>NaN</td>\n",
       "      <td>NaN</td>\n",
       "      <td>142.570000</td>\n",
       "      <td>12.000000</td>\n",
       "      <td>NaN</td>\n",
       "    </tr>\n",
       "    <tr>\n",
       "      <th>max</th>\n",
       "      <td>NaN</td>\n",
       "      <td>NaN</td>\n",
       "      <td>2143.300000</td>\n",
       "      <td>22.000000</td>\n",
       "      <td>NaN</td>\n",
       "    </tr>\n",
       "  </tbody>\n",
       "</table>\n",
       "</div>"
      ],
      "text/plain": [
       "           Product    Region        Price  Units Sold   Sale Date\n",
       "count          947       946   945.000000  946.000000        1050\n",
       "unique          50        10          NaN         NaN        1000\n",
       "top     Product_45  Region_9          NaN         NaN  2022-07-28\n",
       "freq            28       109          NaN         NaN           2\n",
       "mean           NaN       NaN   107.598688   10.048626         NaN\n",
       "std            NaN       NaN   124.020322    3.172261         NaN\n",
       "min            NaN       NaN     0.200000    2.000000         NaN\n",
       "25%            NaN       NaN    29.430000    8.000000         NaN\n",
       "50%            NaN       NaN    78.130000   10.000000         NaN\n",
       "75%            NaN       NaN   142.570000   12.000000         NaN\n",
       "max            NaN       NaN  2143.300000   22.000000         NaN"
      ]
     },
     "execution_count": 105,
     "metadata": {},
     "output_type": "execute_result"
    }
   ],
   "source": [
    "# show the describtion of the data\n",
    "df.describe(include='all')"
   ]
  },
  {
   "attachments": {},
   "cell_type": "markdown",
   "metadata": {},
   "source": [
    "-There are 50 products selling in 10 Regions"
   ]
  },
  {
   "attachments": {},
   "cell_type": "markdown",
   "metadata": {},
   "source": [
    "# Data Cleaning (1.1): Drop duplicated rows and rows with missing values "
   ]
  },
  {
   "cell_type": "code",
   "execution_count": 106,
   "metadata": {},
   "outputs": [
    {
     "name": "stdout",
     "output_type": "stream",
     "text": [
      "<class 'pandas.core.frame.DataFrame'>\n",
      "Index: 1000 entries, 0 to 999\n",
      "Data columns (total 5 columns):\n",
      " #   Column      Non-Null Count  Dtype  \n",
      "---  ------      --------------  -----  \n",
      " 0   Product     900 non-null    object \n",
      " 1   Region      900 non-null    object \n",
      " 2   Price       900 non-null    float64\n",
      " 3   Units Sold  900 non-null    float64\n",
      " 4   Sale Date   1000 non-null   object \n",
      "dtypes: float64(2), object(3)\n",
      "memory usage: 46.9+ KB\n"
     ]
    }
   ],
   "source": [
    "df.drop_duplicates(inplace=True)\n",
    "df.info()"
   ]
  },
  {
   "cell_type": "code",
   "execution_count": 107,
   "metadata": {},
   "outputs": [
    {
     "name": "stdout",
     "output_type": "stream",
     "text": [
      "Product       100\n",
      "Region        100\n",
      "Price         100\n",
      "Units Sold    100\n",
      "Sale Date       0\n",
      "dtype: int64\n"
     ]
    }
   ],
   "source": [
    "# show how many rows are having missing value in each column\n",
    "null_counts = df.isnull().sum()\n",
    "print(null_counts)"
   ]
  },
  {
   "attachments": {},
   "cell_type": "markdown",
   "metadata": {},
   "source": [
    "There are + 100 of null values in the 4 columns excluding 'Sales Date', so I will try to clean up all the rows with null value and see how many rows are remaining."
   ]
  },
  {
   "cell_type": "code",
   "execution_count": 108,
   "metadata": {},
   "outputs": [
    {
     "name": "stdout",
     "output_type": "stream",
     "text": [
      "Product       651\n",
      "Region        651\n",
      "Price         651\n",
      "Units Sold    651\n",
      "Sale Date     651\n",
      "dtype: int64\n"
     ]
    }
   ],
   "source": [
    "# clean all the rows with null value and see how many rows are left in the cleaned data\n",
    "df_clean_noNull = df.dropna()\n",
    "rows_left = df_clean_noNull.count()\n",
    "print(rows_left)"
   ]
  },
  {
   "cell_type": "code",
   "execution_count": 109,
   "metadata": {},
   "outputs": [
    {
     "data": {
      "text/plain": [
       "0.34571428571428575"
      ]
     },
     "execution_count": 109,
     "metadata": {},
     "output_type": "execute_result"
    }
   ],
   "source": [
    "# calculate the percentage of rows being cleaned up \n",
    "1 - 687/1050"
   ]
  },
  {
   "attachments": {},
   "cell_type": "markdown",
   "metadata": {},
   "source": [
    "<p>If I clean up all the rows with null value, I am cleaning up close to 35% of rows. I think this is too much.</p> \n",
    "<P>I will try to remove the rows with null value in column 'Products' and 'Region' instead of all the rows with null value. See how many percent of data are left.</p>"
   ]
  },
  {
   "cell_type": "code",
   "execution_count": 111,
   "metadata": {},
   "outputs": [
    {
     "name": "stdout",
     "output_type": "stream",
     "text": [
      "<class 'pandas.core.frame.DataFrame'>\n",
      "RangeIndex: 810 entries, 0 to 809\n",
      "Data columns (total 5 columns):\n",
      " #   Column      Non-Null Count  Dtype  \n",
      "---  ------      --------------  -----  \n",
      " 0   Product     810 non-null    object \n",
      " 1   Region      810 non-null    object \n",
      " 2   Price       725 non-null    float64\n",
      " 3   Units Sold  731 non-null    float64\n",
      " 4   Sale Date   810 non-null    object \n",
      "dtypes: float64(2), object(3)\n",
      "memory usage: 31.8+ KB\n"
     ]
    }
   ],
   "source": [
    "# remove all the rows with null value in column 'Product' and 'Region'\n",
    "df_clean_ProductRegion = df.dropna(subset=['Product','Region'])\n",
    "\n",
    "# reset all the index\n",
    "df_clean_ProductRegion.reset_index(drop=True, inplace=True)\n",
    "\n",
    "# show the info of the data\n",
    "df_clean_ProductRegion.info()"
   ]
  },
  {
   "cell_type": "code",
   "execution_count": 112,
   "metadata": {},
   "outputs": [
    {
     "data": {
      "text/plain": [
       "0.7714285714285715"
      ]
     },
     "execution_count": 112,
     "metadata": {},
     "output_type": "execute_result"
    }
   ],
   "source": [
    "810/1050"
   ]
  },
  {
   "attachments": {},
   "cell_type": "markdown",
   "metadata": {},
   "source": [
    "<p>df_clean_ProductRegion - 77% of rows remaining</p>\n",
    "<p>Less rows are being removed using the above data cleaning approch than clean up all the missing value rows.</p> \n",
    "<p>Therefore, I will clean up the rows with missing value in 'Product' and 'Region', as I am going to analyze the performance of the Products and Regions, and I am able to fill the missing value for these 2 columns</p>"
   ]
  },
  {
   "attachments": {},
   "cell_type": "markdown",
   "metadata": {},
   "source": [
    "# Data Cleaning (1.2): Remove outliers"
   ]
  },
  {
   "attachments": {},
   "cell_type": "markdown",
   "metadata": {},
   "source": [
    "### Price Column"
   ]
  },
  {
   "cell_type": "code",
   "execution_count": 113,
   "metadata": {},
   "outputs": [
    {
     "data": {
      "image/png": "[encoded data removed]",
      "text/plain": [
       "<Figure size 640x480 with 1 Axes>"
      ]
     },
     "metadata": {},
     "output_type": "display_data"
    }
   ],
   "source": [
    "# reset all the index\n",
    "df_clean_ProductRegion.reset_index(drop=True, inplace=True)\n",
    "\n",
    "# plot boxplot for 'Price' column\n",
    "sns.boxplot(df_clean_ProductRegion['Price'])\n",
    "\n",
    "# set plot title\n",
    "plt.title('Price')\n",
    "\n",
    "# show the plot\n",
    "plt.show()"
   ]
  },
  {
   "attachments": {},
   "cell_type": "markdown",
   "metadata": {},
   "source": [
    "The boxplot shows there are outliers"
   ]
  },
  {
   "cell_type": "code",
   "execution_count": 114,
   "metadata": {},
   "outputs": [
    {
     "data": {
      "text/html": [
       "<div>\n",
       "<style scoped>\n",
       "    .dataframe tbody tr th:only-of-type {\n",
       "        vertical-align: middle;\n",
       "    }\n",
       "\n",
       "    .dataframe tbody tr th {\n",
       "        vertical-align: top;\n",
       "    }\n",
       "\n",
       "    .dataframe thead th {\n",
       "        text-align: right;\n",
       "    }\n",
       "</style>\n",
       "<table border=\"1\" class=\"dataframe\">\n",
       "  <thead>\n",
       "    <tr style=\"text-align: right;\">\n",
       "      <th></th>\n",
       "      <th>Product</th>\n",
       "      <th>Region</th>\n",
       "      <th>Price</th>\n",
       "      <th>Units Sold</th>\n",
       "      <th>Sale Date</th>\n",
       "    </tr>\n",
       "  </thead>\n",
       "  <tbody>\n",
       "    <tr>\n",
       "      <th>count</th>\n",
       "      <td>810</td>\n",
       "      <td>810</td>\n",
       "      <td>725.000000</td>\n",
       "      <td>731.000000</td>\n",
       "      <td>810</td>\n",
       "    </tr>\n",
       "    <tr>\n",
       "      <th>unique</th>\n",
       "      <td>50</td>\n",
       "      <td>10</td>\n",
       "      <td>NaN</td>\n",
       "      <td>NaN</td>\n",
       "      <td>810</td>\n",
       "    </tr>\n",
       "    <tr>\n",
       "      <th>top</th>\n",
       "      <td>Product_5</td>\n",
       "      <td>Region_9</td>\n",
       "      <td>NaN</td>\n",
       "      <td>NaN</td>\n",
       "      <td>2022-01-03</td>\n",
       "    </tr>\n",
       "    <tr>\n",
       "      <th>freq</th>\n",
       "      <td>28</td>\n",
       "      <td>96</td>\n",
       "      <td>NaN</td>\n",
       "      <td>NaN</td>\n",
       "      <td>1</td>\n",
       "    </tr>\n",
       "    <tr>\n",
       "      <th>mean</th>\n",
       "      <td>NaN</td>\n",
       "      <td>NaN</td>\n",
       "      <td>106.942331</td>\n",
       "      <td>10.103967</td>\n",
       "      <td>NaN</td>\n",
       "    </tr>\n",
       "    <tr>\n",
       "      <th>std</th>\n",
       "      <td>NaN</td>\n",
       "      <td>NaN</td>\n",
       "      <td>129.246684</td>\n",
       "      <td>3.229169</td>\n",
       "      <td>NaN</td>\n",
       "    </tr>\n",
       "    <tr>\n",
       "      <th>min</th>\n",
       "      <td>NaN</td>\n",
       "      <td>NaN</td>\n",
       "      <td>0.200000</td>\n",
       "      <td>2.000000</td>\n",
       "      <td>NaN</td>\n",
       "    </tr>\n",
       "    <tr>\n",
       "      <th>25%</th>\n",
       "      <td>NaN</td>\n",
       "      <td>NaN</td>\n",
       "      <td>29.000000</td>\n",
       "      <td>8.000000</td>\n",
       "      <td>NaN</td>\n",
       "    </tr>\n",
       "    <tr>\n",
       "      <th>50%</th>\n",
       "      <td>NaN</td>\n",
       "      <td>NaN</td>\n",
       "      <td>76.010000</td>\n",
       "      <td>10.000000</td>\n",
       "      <td>NaN</td>\n",
       "    </tr>\n",
       "    <tr>\n",
       "      <th>75%</th>\n",
       "      <td>NaN</td>\n",
       "      <td>NaN</td>\n",
       "      <td>139.560000</td>\n",
       "      <td>12.000000</td>\n",
       "      <td>NaN</td>\n",
       "    </tr>\n",
       "    <tr>\n",
       "      <th>max</th>\n",
       "      <td>NaN</td>\n",
       "      <td>NaN</td>\n",
       "      <td>2143.300000</td>\n",
       "      <td>22.000000</td>\n",
       "      <td>NaN</td>\n",
       "    </tr>\n",
       "  </tbody>\n",
       "</table>\n",
       "</div>"
      ],
      "text/plain": [
       "          Product    Region        Price  Units Sold   Sale Date\n",
       "count         810       810   725.000000  731.000000         810\n",
       "unique         50        10          NaN         NaN         810\n",
       "top     Product_5  Region_9          NaN         NaN  2022-01-03\n",
       "freq           28        96          NaN         NaN           1\n",
       "mean          NaN       NaN   106.942331   10.103967         NaN\n",
       "std           NaN       NaN   129.246684    3.229169         NaN\n",
       "min           NaN       NaN     0.200000    2.000000         NaN\n",
       "25%           NaN       NaN    29.000000    8.000000         NaN\n",
       "50%           NaN       NaN    76.010000   10.000000         NaN\n",
       "75%           NaN       NaN   139.560000   12.000000         NaN\n",
       "max           NaN       NaN  2143.300000   22.000000         NaN"
      ]
     },
     "execution_count": 114,
     "metadata": {},
     "output_type": "execute_result"
    }
   ],
   "source": [
    "# find the mean and sd of Price column\n",
    "df_clean_ProductRegion.describe(include = 'all')"
   ]
  },
  {
   "cell_type": "code",
   "execution_count": 115,
   "metadata": {},
   "outputs": [],
   "source": [
    "# calculate the outlier: Mean + 3*sd value of Price column\n",
    "outlier_price = 108.624987 + 3*122.623788\t"
   ]
  },
  {
   "cell_type": "code",
   "execution_count": 116,
   "metadata": {},
   "outputs": [
    {
     "data": {
      "text/html": [
       "<div>\n",
       "<style scoped>\n",
       "    .dataframe tbody tr th:only-of-type {\n",
       "        vertical-align: middle;\n",
       "    }\n",
       "\n",
       "    .dataframe tbody tr th {\n",
       "        vertical-align: top;\n",
       "    }\n",
       "\n",
       "    .dataframe thead th {\n",
       "        text-align: right;\n",
       "    }\n",
       "</style>\n",
       "<table border=\"1\" class=\"dataframe\">\n",
       "  <thead>\n",
       "    <tr style=\"text-align: right;\">\n",
       "      <th></th>\n",
       "      <th>Product</th>\n",
       "      <th>Region</th>\n",
       "      <th>Price</th>\n",
       "      <th>Units Sold</th>\n",
       "      <th>Sale Date</th>\n",
       "    </tr>\n",
       "  </thead>\n",
       "  <tbody>\n",
       "    <tr>\n",
       "      <th>count</th>\n",
       "      <td>798</td>\n",
       "      <td>798</td>\n",
       "      <td>713.000000</td>\n",
       "      <td>721.000000</td>\n",
       "      <td>798</td>\n",
       "    </tr>\n",
       "    <tr>\n",
       "      <th>unique</th>\n",
       "      <td>50</td>\n",
       "      <td>10</td>\n",
       "      <td>NaN</td>\n",
       "      <td>NaN</td>\n",
       "      <td>798</td>\n",
       "    </tr>\n",
       "    <tr>\n",
       "      <th>top</th>\n",
       "      <td>Product_5</td>\n",
       "      <td>Region_9</td>\n",
       "      <td>NaN</td>\n",
       "      <td>NaN</td>\n",
       "      <td>2022-01-03</td>\n",
       "    </tr>\n",
       "    <tr>\n",
       "      <th>freq</th>\n",
       "      <td>28</td>\n",
       "      <td>95</td>\n",
       "      <td>NaN</td>\n",
       "      <td>NaN</td>\n",
       "      <td>1</td>\n",
       "    </tr>\n",
       "    <tr>\n",
       "      <th>mean</th>\n",
       "      <td>NaN</td>\n",
       "      <td>NaN</td>\n",
       "      <td>97.038317</td>\n",
       "      <td>10.108183</td>\n",
       "      <td>NaN</td>\n",
       "    </tr>\n",
       "    <tr>\n",
       "      <th>std</th>\n",
       "      <td>NaN</td>\n",
       "      <td>NaN</td>\n",
       "      <td>88.083512</td>\n",
       "      <td>3.241990</td>\n",
       "      <td>NaN</td>\n",
       "    </tr>\n",
       "    <tr>\n",
       "      <th>min</th>\n",
       "      <td>NaN</td>\n",
       "      <td>NaN</td>\n",
       "      <td>0.200000</td>\n",
       "      <td>2.000000</td>\n",
       "      <td>NaN</td>\n",
       "    </tr>\n",
       "    <tr>\n",
       "      <th>25%</th>\n",
       "      <td>NaN</td>\n",
       "      <td>NaN</td>\n",
       "      <td>28.450000</td>\n",
       "      <td>8.000000</td>\n",
       "      <td>NaN</td>\n",
       "    </tr>\n",
       "    <tr>\n",
       "      <th>50%</th>\n",
       "      <td>NaN</td>\n",
       "      <td>NaN</td>\n",
       "      <td>74.270000</td>\n",
       "      <td>10.000000</td>\n",
       "      <td>NaN</td>\n",
       "    </tr>\n",
       "    <tr>\n",
       "      <th>75%</th>\n",
       "      <td>NaN</td>\n",
       "      <td>NaN</td>\n",
       "      <td>134.580000</td>\n",
       "      <td>12.000000</td>\n",
       "      <td>NaN</td>\n",
       "    </tr>\n",
       "    <tr>\n",
       "      <th>max</th>\n",
       "      <td>NaN</td>\n",
       "      <td>NaN</td>\n",
       "      <td>460.200000</td>\n",
       "      <td>22.000000</td>\n",
       "      <td>NaN</td>\n",
       "    </tr>\n",
       "  </tbody>\n",
       "</table>\n",
       "</div>"
      ],
      "text/plain": [
       "          Product    Region       Price  Units Sold   Sale Date\n",
       "count         798       798  713.000000  721.000000         798\n",
       "unique         50        10         NaN         NaN         798\n",
       "top     Product_5  Region_9         NaN         NaN  2022-01-03\n",
       "freq           28        95         NaN         NaN           1\n",
       "mean          NaN       NaN   97.038317   10.108183         NaN\n",
       "std           NaN       NaN   88.083512    3.241990         NaN\n",
       "min           NaN       NaN    0.200000    2.000000         NaN\n",
       "25%           NaN       NaN   28.450000    8.000000         NaN\n",
       "50%           NaN       NaN   74.270000   10.000000         NaN\n",
       "75%           NaN       NaN  134.580000   12.000000         NaN\n",
       "max           NaN       NaN  460.200000   22.000000         NaN"
      ]
     },
     "execution_count": 116,
     "metadata": {},
     "output_type": "execute_result"
    }
   ],
   "source": [
    "df_clean_ProductRegion = df_clean_ProductRegion.drop(df_clean_ProductRegion[df_clean_ProductRegion['Price'] > outlier_price].index)\n",
    "\n",
    "# reset the index\n",
    "df_clean_ProductRegion.reset_index(drop=True, inplace=True)\n",
    "\n",
    "df_clean_ProductRegion.describe(include = 'all')"
   ]
  },
  {
   "cell_type": "code",
   "execution_count": 117,
   "metadata": {},
   "outputs": [
    {
     "data": {
      "image/png": "[encoded data removed]",
      "text/plain": [
       "<Figure size 640x480 with 1 Axes>"
      ]
     },
     "metadata": {},
     "output_type": "display_data"
    }
   ],
   "source": [
    "# plot the boxplot again\n",
    "sns.boxplot(df_clean_ProductRegion['Price'])\n",
    "\n",
    "# set plot title\n",
    "plt.title('Price')\n",
    "\n",
    "# show plot\n",
    "plt.show()"
   ]
  },
  {
   "attachments": {},
   "cell_type": "markdown",
   "metadata": {},
   "source": [
    "### Units Sold column"
   ]
  },
  {
   "cell_type": "code",
   "execution_count": 118,
   "metadata": {},
   "outputs": [
    {
     "data": {
      "image/png": "[encoded data removed]",
      "text/plain": [
       "<Figure size 640x480 with 1 Axes>"
      ]
     },
     "metadata": {},
     "output_type": "display_data"
    }
   ],
   "source": [
    "# reset the index\n",
    "df_clean_ProductRegion.reset_index(drop=True, inplace=True)\n",
    "\n",
    "# plot the boxplot of the 'Units Sold' column\n",
    "sns.boxplot(data = df_clean_ProductRegion['Units Sold'])\n",
    "\n",
    "# set plot title\n",
    "plt.title('Units Sold')\n",
    "\n",
    "# show the plot\n",
    "plt.show()"
   ]
  },
  {
   "attachments": {},
   "cell_type": "markdown",
   "metadata": {},
   "source": [
    "The Units Sold column is normally distributed, so no need to clean outliers"
   ]
  },
  {
   "attachments": {},
   "cell_type": "markdown",
   "metadata": {},
   "source": [
    "# Data Cleaning (1.3): Fill Null value for Price and Unit sold columns"
   ]
  },
  {
   "cell_type": "code",
   "execution_count": 119,
   "metadata": {},
   "outputs": [
    {
     "data": {
      "text/plain": [
       "Product        0\n",
       "Region         0\n",
       "Price         85\n",
       "Units Sold    77\n",
       "Sale Date      0\n",
       "dtype: int64"
      ]
     },
     "execution_count": 119,
     "metadata": {},
     "output_type": "execute_result"
    }
   ],
   "source": [
    "# show the number of missing value \n",
    "df_clean_ProductRegion.isnull().sum()"
   ]
  },
  {
   "attachments": {},
   "cell_type": "markdown",
   "metadata": {},
   "source": [
    "Clean fill the missing value in 'Units Sold' column"
   ]
  },
  {
   "cell_type": "code",
   "execution_count": 120,
   "metadata": {},
   "outputs": [
    {
     "data": {
      "text/plain": [
       "Product        0\n",
       "Region         0\n",
       "Price         85\n",
       "Units Sold     0\n",
       "Sale Date      0\n",
       "dtype: int64"
      ]
     },
     "execution_count": 120,
     "metadata": {},
     "output_type": "execute_result"
    }
   ],
   "source": [
    "# calculate the mean of Units Sold\n",
    "mean_unit_PR = df_clean_ProductRegion['Units Sold'].mean()\n",
    "\n",
    "# fill missing value in Unit Sold column with mean of the column\n",
    "df_clean_ProductRegion.loc[:, 'Units Sold'] = df_clean_ProductRegion['Units Sold'].copy().fillna(mean_unit_PR)\n",
    "\n",
    "# check if there are missing value in the column\n",
    "df_clean_ProductRegion.isnull().sum()"
   ]
  },
  {
   "attachments": {},
   "cell_type": "markdown",
   "metadata": {},
   "source": [
    "Clean fill the missing value in 'Price' column"
   ]
  },
  {
   "cell_type": "code",
   "execution_count": 121,
   "metadata": {},
   "outputs": [
    {
     "data": {
      "text/plain": [
       "Product       0\n",
       "Region        0\n",
       "Price         0\n",
       "Units Sold    0\n",
       "Sale Date     0\n",
       "dtype: int64"
      ]
     },
     "execution_count": 121,
     "metadata": {},
     "output_type": "execute_result"
    }
   ],
   "source": [
    "# calculate the mean of Price\n",
    "mean_price_PR = df_clean_ProductRegion['Price'].mean()\n",
    "\n",
    "# fill missing value in Price column with mean of the column\n",
    "df_clean_ProductRegion.loc[:, 'Price'] = df_clean_ProductRegion['Price'].copy().fillna(mean_price_PR)\n",
    "\n",
    "# check if there are missing value in the column\n",
    "df_clean_ProductRegion.isnull().sum()"
   ]
  },
  {
   "attachments": {},
   "cell_type": "markdown",
   "metadata": {},
   "source": [
    "There are not missing value in the Dataframe"
   ]
  },
  {
   "attachments": {},
   "cell_type": "markdown",
   "metadata": {},
   "source": [
    "# Performance Analysis (2.1): Creation of 'Revenue' Column"
   ]
  },
  {
   "cell_type": "code",
   "execution_count": 123,
   "metadata": {},
   "outputs": [],
   "source": [
    "# create Revenue column\n",
    "df_clean_ProductRegion['Revenue'] = df_clean_ProductRegion['Price'] * df_clean_ProductRegion['Units Sold']"
   ]
  },
  {
   "cell_type": "code",
   "execution_count": 124,
   "metadata": {},
   "outputs": [
    {
     "data": {
      "text/html": [
       "<div>\n",
       "<style scoped>\n",
       "    .dataframe tbody tr th:only-of-type {\n",
       "        vertical-align: middle;\n",
       "    }\n",
       "\n",
       "    .dataframe tbody tr th {\n",
       "        vertical-align: top;\n",
       "    }\n",
       "\n",
       "    .dataframe thead th {\n",
       "        text-align: right;\n",
       "    }\n",
       "</style>\n",
       "<table border=\"1\" class=\"dataframe\">\n",
       "  <thead>\n",
       "    <tr style=\"text-align: right;\">\n",
       "      <th></th>\n",
       "      <th>Product</th>\n",
       "      <th>Region</th>\n",
       "      <th>Price</th>\n",
       "      <th>Units Sold</th>\n",
       "      <th>Sale Date</th>\n",
       "      <th>Revenue</th>\n",
       "    </tr>\n",
       "  </thead>\n",
       "  <tbody>\n",
       "    <tr>\n",
       "      <th>0</th>\n",
       "      <td>Product_46</td>\n",
       "      <td>Region_3</td>\n",
       "      <td>20.430000</td>\n",
       "      <td>12.0</td>\n",
       "      <td>2022-01-03</td>\n",
       "      <td>245.160000</td>\n",
       "    </tr>\n",
       "    <tr>\n",
       "      <th>1</th>\n",
       "      <td>Product_36</td>\n",
       "      <td>Region_1</td>\n",
       "      <td>12.770000</td>\n",
       "      <td>10.0</td>\n",
       "      <td>2022-01-04</td>\n",
       "      <td>127.700000</td>\n",
       "    </tr>\n",
       "    <tr>\n",
       "      <th>2</th>\n",
       "      <td>Product_17</td>\n",
       "      <td>Region_6</td>\n",
       "      <td>125.690000</td>\n",
       "      <td>6.0</td>\n",
       "      <td>2022-01-05</td>\n",
       "      <td>754.140000</td>\n",
       "    </tr>\n",
       "    <tr>\n",
       "      <th>3</th>\n",
       "      <td>Product_45</td>\n",
       "      <td>Region_1</td>\n",
       "      <td>8.630000</td>\n",
       "      <td>11.0</td>\n",
       "      <td>2022-01-06</td>\n",
       "      <td>94.930000</td>\n",
       "    </tr>\n",
       "    <tr>\n",
       "      <th>4</th>\n",
       "      <td>Product_31</td>\n",
       "      <td>Region_3</td>\n",
       "      <td>23.730000</td>\n",
       "      <td>6.0</td>\n",
       "      <td>2022-01-07</td>\n",
       "      <td>142.380000</td>\n",
       "    </tr>\n",
       "    <tr>\n",
       "      <th>5</th>\n",
       "      <td>Product_18</td>\n",
       "      <td>Region_7</td>\n",
       "      <td>19.270000</td>\n",
       "      <td>9.0</td>\n",
       "      <td>2022-01-08</td>\n",
       "      <td>173.430000</td>\n",
       "    </tr>\n",
       "    <tr>\n",
       "      <th>6</th>\n",
       "      <td>Product_16</td>\n",
       "      <td>Region_9</td>\n",
       "      <td>30.700000</td>\n",
       "      <td>14.0</td>\n",
       "      <td>2022-01-09</td>\n",
       "      <td>429.800000</td>\n",
       "    </tr>\n",
       "    <tr>\n",
       "      <th>7</th>\n",
       "      <td>Product_9</td>\n",
       "      <td>Region_2</td>\n",
       "      <td>264.050000</td>\n",
       "      <td>7.0</td>\n",
       "      <td>2022-01-10</td>\n",
       "      <td>1848.350000</td>\n",
       "    </tr>\n",
       "    <tr>\n",
       "      <th>8</th>\n",
       "      <td>Product_20</td>\n",
       "      <td>Region_3</td>\n",
       "      <td>97.038317</td>\n",
       "      <td>8.0</td>\n",
       "      <td>2022-01-11</td>\n",
       "      <td>776.306536</td>\n",
       "    </tr>\n",
       "    <tr>\n",
       "      <th>9</th>\n",
       "      <td>Product_1</td>\n",
       "      <td>Region_4</td>\n",
       "      <td>63.040000</td>\n",
       "      <td>9.0</td>\n",
       "      <td>2022-01-12</td>\n",
       "      <td>567.360000</td>\n",
       "    </tr>\n",
       "  </tbody>\n",
       "</table>\n",
       "</div>"
      ],
      "text/plain": [
       "      Product    Region       Price  Units Sold   Sale Date      Revenue\n",
       "0  Product_46  Region_3   20.430000        12.0  2022-01-03   245.160000\n",
       "1  Product_36  Region_1   12.770000        10.0  2022-01-04   127.700000\n",
       "2  Product_17  Region_6  125.690000         6.0  2022-01-05   754.140000\n",
       "3  Product_45  Region_1    8.630000        11.0  2022-01-06    94.930000\n",
       "4  Product_31  Region_3   23.730000         6.0  2022-01-07   142.380000\n",
       "5  Product_18  Region_7   19.270000         9.0  2022-01-08   173.430000\n",
       "6  Product_16  Region_9   30.700000        14.0  2022-01-09   429.800000\n",
       "7   Product_9  Region_2  264.050000         7.0  2022-01-10  1848.350000\n",
       "8  Product_20  Region_3   97.038317         8.0  2022-01-11   776.306536\n",
       "9   Product_1  Region_4   63.040000         9.0  2022-01-12   567.360000"
      ]
     },
     "execution_count": 124,
     "metadata": {},
     "output_type": "execute_result"
    }
   ],
   "source": [
    "# show the dataframe and see if the revenue column is created\n",
    "df_clean_ProductRegion.head(10)"
   ]
  },
  {
   "attachments": {},
   "cell_type": "markdown",
   "metadata": {},
   "source": [
    "# Performance Analysis (2.2): Analyse Product Performance"
   ]
  },
  {
   "cell_type": "code",
   "execution_count": 131,
   "metadata": {},
   "outputs": [
    {
     "name": "stdout",
     "output_type": "stream",
     "text": [
      "       Product       Revenue\n",
      "45  Product_50  26347.737908\n",
      "23  Product_30  24174.736505\n",
      "11   Product_2  23907.168438\n",
      "42  Product_48  23063.300000\n",
      "7   Product_16  21880.526438\n",
      "34  Product_40  21857.016727\n",
      "21  Product_29  21205.918244\n",
      "10  Product_19  20349.516339\n",
      "33   Product_4  20267.711689\n",
      "4   Product_13  19415.355501\n",
      "15  Product_23  19176.721598\n",
      "24  Product_31  18528.380000\n",
      "5   Product_14  18026.119831\n",
      "44   Product_5  17822.933683\n",
      "17  Product_25  17440.130666\n",
      "27  Product_34  17439.852509\n",
      "35  Product_41  17434.746241\n",
      "43  Product_49  17336.050000\n",
      "12  Product_20  17321.606145\n",
      "40  Product_46  17319.132250\n",
      "26  Product_33  17072.189936\n",
      "38  Product_44  16246.116380\n",
      "47   Product_7  16056.089411\n",
      "8   Product_17  15507.253257\n",
      "30  Product_37  15295.249037\n",
      "16  Product_24  15248.902560\n",
      "37  Product_43  14818.234979\n",
      "0    Product_1  14210.434558\n",
      "19  Product_27  13850.992353\n",
      "32  Product_39  13790.630749\n",
      "13  Product_21  13705.798890\n",
      "20  Product_28  13545.021828\n",
      "41  Product_47  12862.320408\n",
      "36  Product_42  12791.458766\n",
      "48   Product_8  12761.755631\n",
      "49   Product_9  12529.365101\n",
      "46   Product_6  12358.830102\n",
      "28  Product_35  12182.830343\n",
      "14  Product_22  11759.245425\n",
      "6   Product_15  11672.883903\n",
      "1   Product_10  11539.834530\n",
      "39  Product_45  11530.468405\n",
      "3   Product_12  11096.574165\n",
      "29  Product_36   9971.491621\n",
      "25  Product_32   9669.100996\n",
      "9   Product_18   9068.675847\n",
      "18  Product_26   8692.579902\n",
      "2   Product_11   8112.108225\n",
      "31  Product_38   7733.499001\n",
      "22   Product_3   4904.558219\n"
     ]
    }
   ],
   "source": [
    "# create dataframe group by Product and apply aggregate function on sum of Revenue  \n",
    "df_clean_P_Revenue = df_clean_ProductRegion.groupby('Product')['Revenue'].sum().reset_index()\n",
    "\n",
    "# sort the data in Descending order\n",
    "df_clean_P_Revenue = df_clean_P_Revenue.sort_values('Revenue', ascending=False)\n",
    "\n",
    "# print the dataframe\n",
    "print(df_clean_P_Revenue)"
   ]
  },
  {
   "attachments": {},
   "cell_type": "markdown",
   "metadata": {},
   "source": [
    "The best selling product is Product_50 and the worst popular product is Product_3"
   ]
  },
  {
   "cell_type": "code",
   "execution_count": 132,
   "metadata": {},
   "outputs": [
    {
     "data": {
      "text/html": [
       "<div>\n",
       "<style scoped>\n",
       "    .dataframe tbody tr th:only-of-type {\n",
       "        vertical-align: middle;\n",
       "    }\n",
       "\n",
       "    .dataframe tbody tr th {\n",
       "        vertical-align: top;\n",
       "    }\n",
       "\n",
       "    .dataframe thead th {\n",
       "        text-align: right;\n",
       "    }\n",
       "</style>\n",
       "<table border=\"1\" class=\"dataframe\">\n",
       "  <thead>\n",
       "    <tr style=\"text-align: right;\">\n",
       "      <th></th>\n",
       "      <th>Product</th>\n",
       "      <th>Revenue</th>\n",
       "    </tr>\n",
       "  </thead>\n",
       "  <tbody>\n",
       "    <tr>\n",
       "      <th>count</th>\n",
       "      <td>50</td>\n",
       "      <td>50.000000</td>\n",
       "    </tr>\n",
       "    <tr>\n",
       "      <th>unique</th>\n",
       "      <td>50</td>\n",
       "      <td>NaN</td>\n",
       "    </tr>\n",
       "    <tr>\n",
       "      <th>top</th>\n",
       "      <td>Product_50</td>\n",
       "      <td>NaN</td>\n",
       "    </tr>\n",
       "    <tr>\n",
       "      <th>freq</th>\n",
       "      <td>1</td>\n",
       "      <td>NaN</td>\n",
       "    </tr>\n",
       "    <tr>\n",
       "      <th>mean</th>\n",
       "      <td>NaN</td>\n",
       "      <td>15417.983105</td>\n",
       "    </tr>\n",
       "    <tr>\n",
       "      <th>std</th>\n",
       "      <td>NaN</td>\n",
       "      <td>4694.995880</td>\n",
       "    </tr>\n",
       "    <tr>\n",
       "      <th>min</th>\n",
       "      <td>NaN</td>\n",
       "      <td>4904.558219</td>\n",
       "    </tr>\n",
       "    <tr>\n",
       "      <th>25%</th>\n",
       "      <td>NaN</td>\n",
       "      <td>12226.830283</td>\n",
       "    </tr>\n",
       "    <tr>\n",
       "      <th>50%</th>\n",
       "      <td>NaN</td>\n",
       "      <td>15272.075798</td>\n",
       "    </tr>\n",
       "    <tr>\n",
       "      <th>75%</th>\n",
       "      <td>NaN</td>\n",
       "      <td>17975.323294</td>\n",
       "    </tr>\n",
       "    <tr>\n",
       "      <th>max</th>\n",
       "      <td>NaN</td>\n",
       "      <td>26347.737908</td>\n",
       "    </tr>\n",
       "  </tbody>\n",
       "</table>\n",
       "</div>"
      ],
      "text/plain": [
       "           Product       Revenue\n",
       "count           50     50.000000\n",
       "unique          50           NaN\n",
       "top     Product_50           NaN\n",
       "freq             1           NaN\n",
       "mean           NaN  15417.983105\n",
       "std            NaN   4694.995880\n",
       "min            NaN   4904.558219\n",
       "25%            NaN  12226.830283\n",
       "50%            NaN  15272.075798\n",
       "75%            NaN  17975.323294\n",
       "max            NaN  26347.737908"
      ]
     },
     "execution_count": 132,
     "metadata": {},
     "output_type": "execute_result"
    }
   ],
   "source": [
    "df_clean_P_Revenue.describe(include='all')"
   ]
  },
  {
   "attachments": {},
   "cell_type": "markdown",
   "metadata": {},
   "source": [
    "Show the Top 10 Best selling Products"
   ]
  },
  {
   "cell_type": "code",
   "execution_count": 126,
   "metadata": {},
   "outputs": [
    {
     "data": {
      "image/png": "[encoded data removed]",
      "text/plain": [
       "<Figure size 2000x1000 with 1 Axes>"
      ]
     },
     "metadata": {},
     "output_type": "display_data"
    }
   ],
   "source": [
    "# Select top 10 Best selling Products\n",
    "Top10_Product = df_clean_P_Revenue.head(10)\n",
    "\n",
    "# set the plot size\n",
    "plt.figure(figsize=(20, 10))\n",
    "\n",
    "# plot the bar plot of the top 10 products\n",
    "sns.barplot(x='Product', y='Revenue', data = Top10_Product, errorbar=None)\n",
    "\n",
    "# set the plot title\n",
    "plt.title('Top 10 Product')\n",
    "\n",
    "# show the plot\n",
    "plt.show()\n"
   ]
  },
  {
   "attachments": {},
   "cell_type": "markdown",
   "metadata": {},
   "source": [
    "# Performance Analysis (2.3): Analyse Regional Performance"
   ]
  },
  {
   "cell_type": "code",
   "execution_count": 135,
   "metadata": {},
   "outputs": [
    {
     "name": "stdout",
     "output_type": "stream",
     "text": [
      "      Region        Revenue\n",
      "9   Region_9  101348.581562\n",
      "8   Region_8   92914.962278\n",
      "4   Region_4   88887.184399\n",
      "1  Region_10   85842.771058\n",
      "5   Region_5   79940.789207\n",
      "2   Region_2   79019.239477\n",
      "3   Region_3   66689.780252\n",
      "6   Region_6   63868.999451\n",
      "0   Region_1   61396.426234\n",
      "7   Region_7   50990.421320\n"
     ]
    }
   ],
   "source": [
    "# create dataframe group by Product and apply aggregate function on sum of Product\n",
    "df_clean_R_Revenue = df_clean_ProductRegion.groupby('Region')['Revenue'].sum().reset_index()\n",
    "\n",
    "# sort the data in Descending order\n",
    "df_clean_R_Revenue = df_clean_R_Revenue.sort_values('Revenue', ascending=False)\n",
    "\n",
    "# print the dataframe\n",
    "print(df_clean_R_Revenue)"
   ]
  },
  {
   "attachments": {},
   "cell_type": "markdown",
   "metadata": {},
   "source": [
    "Region_9 is having the best sales performance, whike Region_7 is having the worst"
   ]
  },
  {
   "attachments": {},
   "cell_type": "markdown",
   "metadata": {},
   "source": [
    "Show the performance of the Region in chart"
   ]
  },
  {
   "cell_type": "code",
   "execution_count": 136,
   "metadata": {},
   "outputs": [
    {
     "data": {
      "image/png": "[encoded data removed]",
      "text/plain": [
       "<Figure size 2000x1000 with 1 Axes>"
      ]
     },
     "metadata": {},
     "output_type": "display_data"
    }
   ],
   "source": [
    "# set the plot size\n",
    "plt.figure(figsize=(20, 10))\n",
    "\n",
    "# plot the bar plot of the Regional Revenue\n",
    "sns.barplot(x='Region', y='Revenue', data = df_clean_R_Revenue, errorbar=None)\n",
    "\n",
    "# set the plot title\n",
    "plt.title('Revenue of Region')\n",
    "\n",
    "# show the plot\n",
    "plt.show()"
   ]
  },
  {
   "attachments": {},
   "cell_type": "markdown",
   "metadata": {},
   "source": [
    "# Investigate the price of the Top 10 Products"
   ]
  },
  {
   "cell_type": "code",
   "execution_count": 160,
   "metadata": {},
   "outputs": [
    {
     "name": "stdout",
     "output_type": "stream",
     "text": [
      "            Price\n",
      "count   21.000000\n",
      "mean   111.185474\n",
      "std    108.235238\n",
      "min      1.360000\n",
      "25%     51.820000\n",
      "50%     86.730000\n",
      "75%    146.870000\n",
      "max    447.750000\n",
      "            Price\n",
      "count   19.000000\n",
      "mean   120.916316\n",
      "std     95.940168\n",
      "min      4.860000\n",
      "25%     38.355000\n",
      "50%    100.800000\n",
      "75%    175.435000\n",
      "max    385.960000\n",
      "            Price\n",
      "count   18.000000\n",
      "mean   128.792497\n",
      "std    109.395061\n",
      "min      2.140000\n",
      "25%     54.360000\n",
      "50%     97.038317\n",
      "75%    178.130000\n",
      "max    347.200000\n",
      "            Price\n",
      "count   18.000000\n",
      "mean   112.101667\n",
      "std    108.176534\n",
      "min      7.130000\n",
      "25%     30.567500\n",
      "50%     77.605000\n",
      "75%    149.750000\n",
      "max    418.240000\n",
      "            Price\n",
      "count   18.000000\n",
      "mean   103.798795\n",
      "std    121.382741\n",
      "min      0.960000\n",
      "25%     16.480000\n",
      "50%     59.235000\n",
      "75%    150.334579\n",
      "max    433.170000\n",
      "            Price\n",
      "count   17.000000\n",
      "mean   145.816471\n",
      "std    129.995545\n",
      "min      3.480000\n",
      "25%     48.830000\n",
      "50%     97.080000\n",
      "75%    176.560000\n",
      "max    426.020000\n",
      "           Price\n",
      "count   18.00000\n",
      "mean   123.73824\n",
      "std    119.48728\n",
      "min      1.38000\n",
      "25%     61.45500\n",
      "50%     89.41000\n",
      "75%    144.57000\n",
      "max    460.20000\n",
      "            Price\n",
      "count   19.000000\n",
      "mean   123.777191\n",
      "std    108.177249\n",
      "min      7.780000\n",
      "25%     48.545000\n",
      "50%     97.038317\n",
      "75%    180.785000\n",
      "max    368.160000\n",
      "            Price\n",
      "count   22.000000\n",
      "mean    87.189694\n",
      "std     55.344153\n",
      "min      2.520000\n",
      "25%     34.512500\n",
      "50%     94.719158\n",
      "75%    109.407500\n",
      "max    199.610000\n",
      "           Price\n",
      "count   24.00000\n",
      "mean    89.59354\n",
      "std     71.08145\n",
      "min      0.61000\n",
      "25%     31.28500\n",
      "50%     93.94000\n",
      "75%    130.88750\n",
      "max    233.62000\n"
     ]
    }
   ],
   "source": [
    "# change the Top 10 product dataframe to list\n",
    "t10_list = Top10_Product['Product'].tolist()\n",
    "\n",
    "# run a for loop to find out the mean and sd of the Top 10 Product's price\n",
    "for i in t10_list:\n",
    "    product_price = df_clean_ProductRegion[df_clean_ProductRegion['Product'] == i]['Price'].to_frame()\n",
    "    print(product_price.describe(include = 'all'))"
   ]
  },
  {
   "attachments": {},
   "cell_type": "markdown",
   "metadata": {},
   "source": [
    "The result shows that almost all the products are having mean and sd close to 100, which shows that the price of the product is having a large variation."
   ]
  }
 ],
 "metadata": {
  "kernelspec": {
   "display_name": "Python 3",
   "language": "python",
   "name": "python3"
  },
  "language_info": {
   "codemirror_mode": {
    "name": "ipython",
    "version": 3
   },
   "file_extension": ".py",
   "mimetype": "text/x-python",
   "name": "python",
   "nbconvert_exporter": "python",
   "pygments_lexer": "ipython3",
   "version": "3.11.3"
  },
  "orig_nbformat": 4
 },
 "nbformat": 4,
 "nbformat_minor": 2
}
